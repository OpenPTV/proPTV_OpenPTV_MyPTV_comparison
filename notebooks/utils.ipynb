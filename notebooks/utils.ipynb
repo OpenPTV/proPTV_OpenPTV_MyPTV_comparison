{
 "cells": [
  {
   "cell_type": "markdown",
   "id": "c0916e92",
   "metadata": {},
   "source": [
    "### Works from the project directory only"
   ]
  },
  {
   "cell_type": "code",
   "execution_count": null,
   "id": "350f1702",
   "metadata": {},
   "outputs": [],
   "source": [
    "import pandas as pd\n",
    "\n",
    "# Read the file, skipping lines starting with '#'\n",
    "df = pd.read_csv(\n",
    "    '../calibration_images/markers_c0.txt',\n",
    "    comment='#',\n",
    "    sep='\\s+',\n",
    "    names=['x', 'y', 'X', 'Y', 'Z']\n",
    ")\n",
    "df.head()"
   ]
  },
  {
   "cell_type": "code",
   "execution_count": 8,
   "id": "a6574bd1",
   "metadata": {},
   "outputs": [
    {
     "data": {
      "text/html": [
       "<div>\n",
       "<style scoped>\n",
       "    .dataframe tbody tr th:only-of-type {\n",
       "        vertical-align: middle;\n",
       "    }\n",
       "\n",
       "    .dataframe tbody tr th {\n",
       "        vertical-align: top;\n",
       "    }\n",
       "\n",
       "    .dataframe thead th {\n",
       "        text-align: right;\n",
       "    }\n",
       "</style>\n",
       "<table border=\"1\" class=\"dataframe\">\n",
       "  <thead>\n",
       "    <tr style=\"text-align: right;\">\n",
       "      <th></th>\n",
       "      <th>x</th>\n",
       "      <th>y</th>\n",
       "      <th>X</th>\n",
       "      <th>Y</th>\n",
       "      <th>Z</th>\n",
       "    </tr>\n",
       "  </thead>\n",
       "  <tbody>\n",
       "    <tr>\n",
       "      <th>0</th>\n",
       "      <td>28.98186</td>\n",
       "      <td>601.53040</td>\n",
       "      <td>0.000000</td>\n",
       "      <td>0.0</td>\n",
       "      <td>0.0</td>\n",
       "    </tr>\n",
       "    <tr>\n",
       "      <th>1</th>\n",
       "      <td>60.74514</td>\n",
       "      <td>600.81651</td>\n",
       "      <td>27.777778</td>\n",
       "      <td>0.0</td>\n",
       "      <td>0.0</td>\n",
       "    </tr>\n",
       "    <tr>\n",
       "      <th>2</th>\n",
       "      <td>92.40904</td>\n",
       "      <td>600.09609</td>\n",
       "      <td>55.555556</td>\n",
       "      <td>0.0</td>\n",
       "      <td>0.0</td>\n",
       "    </tr>\n",
       "    <tr>\n",
       "      <th>3</th>\n",
       "      <td>123.97111</td>\n",
       "      <td>599.36925</td>\n",
       "      <td>83.333333</td>\n",
       "      <td>0.0</td>\n",
       "      <td>0.0</td>\n",
       "    </tr>\n",
       "    <tr>\n",
       "      <th>4</th>\n",
       "      <td>155.42890</td>\n",
       "      <td>598.63608</td>\n",
       "      <td>111.111111</td>\n",
       "      <td>0.0</td>\n",
       "      <td>0.0</td>\n",
       "    </tr>\n",
       "  </tbody>\n",
       "</table>\n",
       "</div>"
      ],
      "text/plain": [
       "           x          y           X    Y    Z\n",
       "0   28.98186  601.53040    0.000000  0.0  0.0\n",
       "1   60.74514  600.81651   27.777778  0.0  0.0\n",
       "2   92.40904  600.09609   55.555556  0.0  0.0\n",
       "3  123.97111  599.36925   83.333333  0.0  0.0\n",
       "4  155.42890  598.63608  111.111111  0.0  0.0"
      ]
     },
     "execution_count": 8,
     "metadata": {},
     "output_type": "execute_result"
    }
   ],
   "source": [
    "# Move 'X' column to the end\n",
    "cols = [col for col in df.columns if col != 'X'] + ['X']\n",
    "df = df[cols]\n",
    "\n",
    "# Rename columns as specified\n",
    "df = df.rename(columns={'Y': 'X', 'Z': 'Y', 'X': 'Z'})\n",
    "df.head()"
   ]
  },
  {
   "cell_type": "code",
   "execution_count": 9,
   "id": "2d54316b",
   "metadata": {},
   "outputs": [
    {
     "data": {
      "text/plain": [
       "array([  0., 100., 200., 300., 400., 500.])"
      ]
     },
     "execution_count": 9,
     "metadata": {},
     "output_type": "execute_result"
    }
   ],
   "source": [
    "df['Z'].unique()"
   ]
  },
  {
   "cell_type": "code",
   "execution_count": 10,
   "id": "5b3634c0",
   "metadata": {},
   "outputs": [],
   "source": [
    "z_groups = list(df.groupby('Z'))\n",
    "for idx, (z_val, group) in enumerate(z_groups, start=1):\n",
    "    start_id = 1000 * idx\n",
    "    group = group.reset_index(drop=True)\n",
    "    group['id'] = range(start_id, start_id + len(group))\n",
    "    out_df = group[['id', 'X', 'Y', 'Z']]\n",
    "    with open(f'../cal/plane_{idx}.csv', 'w') as f:\n",
    "        for row in out_df.itertuples(index=False):\n",
    "            f.write(f\"{int(row.id)} {row.X:.6f} {row.Y:.6f} {row.Z:.6f}\\n\")\n"
   ]
  },
  {
   "cell_type": "code",
   "execution_count": null,
   "id": "fd2fb0fc",
   "metadata": {},
   "outputs": [],
   "source": [
    "import shutil\n",
    "import glob\n",
    "import os\n",
    "\n",
    "# Find all .ori and .addpar files for plane1_ in ../cal\n",
    "ori_files = glob.glob('../cal/plane1_*.ori')\n",
    "addpar_files = glob.glob('../cal/plane1_*.addpar')\n",
    "\n",
    "# For each camera file, copy to plane2_ up to plane6_\n",
    "for src_file in ori_files + addpar_files:\n",
    "    for plane_idx in range(2, 7):\n",
    "        # Replace 'plane1_' with 'plane{plane_idx}_' in the filename\n",
    "        dst_file = src_file.replace('plane1_', f'plane{plane_idx}_')\n",
    "        shutil.copy(src_file, dst_file)"
   ]
  },
  {
   "cell_type": "code",
   "execution_count": 13,
   "id": "09d79cce",
   "metadata": {},
   "outputs": [],
   "source": [
    "\n",
    "# Find all .ori and .addpar files for plane1_ in ../cal\n",
    "ori_files = glob.glob('../cal/plane3_*.ori')\n",
    "addpar_files = glob.glob('../cal/plane3_*.addpar')\n",
    "\n",
    "# For each camera file, copy to plane3_ up to plane6_\n",
    "for src_file in ori_files + addpar_files:\n",
    "    for plane_idx in range(4, 7):\n",
    "        # Replace 'plane3_' with 'plane{plane_idx}_' in the filename\n",
    "        dst_file = src_file.replace('plane3_', f'plane{plane_idx}_')\n",
    "        shutil.copy(src_file, dst_file)"
   ]
  }
 ],
 "metadata": {
  "kernelspec": {
   "display_name": "Python 3",
   "language": "python",
   "name": "python3"
  },
  "language_info": {
   "codemirror_mode": {
    "name": "ipython",
    "version": 3
   },
   "file_extension": ".py",
   "mimetype": "text/x-python",
   "name": "python",
   "nbconvert_exporter": "python",
   "pygments_lexer": "ipython3",
   "version": "3.11.11"
  }
 },
 "nbformat": 4,
 "nbformat_minor": 5
}
