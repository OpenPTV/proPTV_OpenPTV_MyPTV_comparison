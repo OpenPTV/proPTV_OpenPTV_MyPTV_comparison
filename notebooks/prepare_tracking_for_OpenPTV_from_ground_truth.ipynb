{
 "cells": [
  {
   "cell_type": "markdown",
   "id": "534f1a53",
   "metadata": {},
   "source": [
    "This notebook takes ground truth data for tracking and converts it to the OpenPTV data in Frames"
   ]
  },
  {
   "cell_type": "code",
   "execution_count": 1,
   "id": "52dc8e7f",
   "metadata": {},
   "outputs": [
    {
     "name": "stdout",
     "output_type": "stream",
     "text": [
      "/home/user/Dropbox/Open_Pro_My_PTV/Tracking/949_particles\n"
     ]
    }
   ],
   "source": [
    "import pathlib, os\n",
    "working_directory = pathlib.Path('/home/user/Dropbox/Open_Pro_My_PTV/Tracking/949_particles')\n",
    "os.chdir(pathlib.Path(working_directory))\n",
    "print(os.path.abspath(os.getcwd()))"
   ]
  },
  {
   "cell_type": "code",
   "execution_count": 11,
   "id": "72786961",
   "metadata": {},
   "outputs": [
    {
     "name": "stderr",
     "output_type": "stream",
     "text": [
      "/tmp/ipykernel_552591/126983585.py:11: FutureWarning: The 'delim_whitespace' keyword in pd.read_csv is deprecated and will be removed in a future version. Use ``sep='\\s+'`` instead\n",
      "  origin_df = pd.read_csv(\n"
     ]
    },
    {
     "data": {
      "text/html": [
       "<div>\n",
       "<style scoped>\n",
       "    .dataframe tbody tr th:only-of-type {\n",
       "        vertical-align: middle;\n",
       "    }\n",
       "\n",
       "    .dataframe tbody tr th {\n",
       "        vertical-align: top;\n",
       "    }\n",
       "\n",
       "    .dataframe thead th {\n",
       "        text-align: right;\n",
       "    }\n",
       "</style>\n",
       "<table border=\"1\" class=\"dataframe\">\n",
       "  <thead>\n",
       "    <tr style=\"text-align: right;\">\n",
       "      <th></th>\n",
       "      <th>ID</th>\n",
       "      <th>X</th>\n",
       "      <th>Y</th>\n",
       "      <th>Z</th>\n",
       "      <th>xc0</th>\n",
       "      <th>yc0</th>\n",
       "      <th>xc1</th>\n",
       "      <th>yc1</th>\n",
       "      <th>xc2</th>\n",
       "      <th>yc2</th>\n",
       "      <th>xc3</th>\n",
       "      <th>yc3</th>\n",
       "    </tr>\n",
       "  </thead>\n",
       "  <tbody>\n",
       "    <tr>\n",
       "      <th>0</th>\n",
       "      <td>250</td>\n",
       "      <td>134.554431</td>\n",
       "      <td>165.677572</td>\n",
       "      <td>143.637106</td>\n",
       "      <td>375.044450</td>\n",
       "      <td>356.012807</td>\n",
       "      <td>384.389545</td>\n",
       "      <td>416.088849</td>\n",
       "      <td>439.233023</td>\n",
       "      <td>337.090519</td>\n",
       "      <td>426.958841</td>\n",
       "      <td>418.681389</td>\n",
       "    </tr>\n",
       "    <tr>\n",
       "      <th>1</th>\n",
       "      <td>695</td>\n",
       "      <td>154.365276</td>\n",
       "      <td>146.095693</td>\n",
       "      <td>130.049090</td>\n",
       "      <td>339.753993</td>\n",
       "      <td>388.769437</td>\n",
       "      <td>348.519439</td>\n",
       "      <td>441.318202</td>\n",
       "      <td>395.954569</td>\n",
       "      <td>368.374971</td>\n",
       "      <td>382.727308</td>\n",
       "      <td>445.828540</td>\n",
       "    </tr>\n",
       "    <tr>\n",
       "      <th>2</th>\n",
       "      <td>1069</td>\n",
       "      <td>154.059499</td>\n",
       "      <td>134.594652</td>\n",
       "      <td>142.787111</td>\n",
       "      <td>316.213915</td>\n",
       "      <td>362.755296</td>\n",
       "      <td>325.009035</td>\n",
       "      <td>413.825967</td>\n",
       "      <td>372.656106</td>\n",
       "      <td>342.513880</td>\n",
       "      <td>358.629590</td>\n",
       "      <td>419.984701</td>\n",
       "    </tr>\n",
       "    <tr>\n",
       "      <th>3</th>\n",
       "      <td>1741</td>\n",
       "      <td>141.145272</td>\n",
       "      <td>148.266317</td>\n",
       "      <td>148.025512</td>\n",
       "      <td>341.389654</td>\n",
       "      <td>348.856569</td>\n",
       "      <td>350.494637</td>\n",
       "      <td>405.163203</td>\n",
       "      <td>402.908139</td>\n",
       "      <td>329.452818</td>\n",
       "      <td>389.612592</td>\n",
       "      <td>409.861142</td>\n",
       "    </tr>\n",
       "    <tr>\n",
       "      <th>4</th>\n",
       "      <td>2153</td>\n",
       "      <td>147.940949</td>\n",
       "      <td>138.090230</td>\n",
       "      <td>127.653911</td>\n",
       "      <td>321.729748</td>\n",
       "      <td>392.305740</td>\n",
       "      <td>330.123325</td>\n",
       "      <td>446.380785</td>\n",
       "      <td>381.398907</td>\n",
       "      <td>371.366818</td>\n",
       "      <td>367.769572</td>\n",
       "      <td>451.752579</td>\n",
       "    </tr>\n",
       "  </tbody>\n",
       "</table>\n",
       "</div>"
      ],
      "text/plain": [
       "     ID           X           Y           Z         xc0         yc0  \\\n",
       "0   250  134.554431  165.677572  143.637106  375.044450  356.012807   \n",
       "1   695  154.365276  146.095693  130.049090  339.753993  388.769437   \n",
       "2  1069  154.059499  134.594652  142.787111  316.213915  362.755296   \n",
       "3  1741  141.145272  148.266317  148.025512  341.389654  348.856569   \n",
       "4  2153  147.940949  138.090230  127.653911  321.729748  392.305740   \n",
       "\n",
       "          xc1         yc1         xc2         yc2         xc3         yc3  \n",
       "0  384.389545  416.088849  439.233023  337.090519  426.958841  418.681389  \n",
       "1  348.519439  441.318202  395.954569  368.374971  382.727308  445.828540  \n",
       "2  325.009035  413.825967  372.656106  342.513880  358.629590  419.984701  \n",
       "3  350.494637  405.163203  402.908139  329.452818  389.612592  409.861142  \n",
       "4  330.123325  446.380785  381.398907  371.366818  367.769572  451.752579  "
      ]
     },
     "execution_count": 11,
     "metadata": {},
     "output_type": "execute_result"
    }
   ],
   "source": [
    "import pandas as pd\n",
    "\n",
    "# Read the header line\n",
    "with open(working_directory / 'origin' / 'origin_00000.txt') as f:\n",
    "    for line in f:\n",
    "        if line.startswith('#'):\n",
    "            header = line[1:].strip().split()\n",
    "            break\n",
    "\n",
    "# Read the data, skipping the header line(s)\n",
    "origin_df = pd.read_csv(\n",
    "    working_directory / 'origin' / 'origin_00000.txt',\n",
    "    comment='#',\n",
    "    delim_whitespace=True,\n",
    "    names=header\n",
    ")\n",
    "origin_df.rename(columns=lambda x: x.strip(','), inplace=True)\n",
    "origin_df['ID'] = origin_df['ID'].astype(int)\n",
    "for col in origin_df.columns:\n",
    "    if col != 'ID':\n",
    "        origin_df[col] = origin_df[col].astype(float)\n",
    "origin_df.head()"
   ]
  },
  {
   "cell_type": "code",
   "execution_count": 12,
   "id": "3c306893",
   "metadata": {},
   "outputs": [
    {
     "name": "stdout",
     "output_type": "stream",
     "text": [
      "All IDs are unique: True\n"
     ]
    }
   ],
   "source": [
    "is_unique = origin_df['ID'].is_unique\n",
    "print(\"All IDs are unique:\", is_unique)"
   ]
  }
 ],
 "metadata": {
  "kernelspec": {
   "display_name": "Python 3",
   "language": "python",
   "name": "python3"
  },
  "language_info": {
   "codemirror_mode": {
    "name": "ipython",
    "version": 3
   },
   "file_extension": ".py",
   "mimetype": "text/x-python",
   "name": "python",
   "nbconvert_exporter": "python",
   "pygments_lexer": "ipython3",
   "version": "3.11.11"
  }
 },
 "nbformat": 4,
 "nbformat_minor": 5
}
