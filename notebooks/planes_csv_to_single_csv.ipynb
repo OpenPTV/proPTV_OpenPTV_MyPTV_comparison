{
 "cells": [
  {
   "cell_type": "code",
   "execution_count": 32,
   "metadata": {},
   "outputs": [],
   "source": [
    "import pandas as pd\n",
    "\n",
    "import os\n",
    "from glob import glob\n",
    "\n",
    "csv_files = glob('/home/user/Downloads/rbc300/cal/plane*.csv')\n",
    "csv_files.sort()\n",
    "\n",
    "# List of CSV file paths\n",
    "# csv_files = ['file1.csv', 'file2.csv', 'file3.csv', 'file4.csv', 'file5.csv']\n",
    "\n",
    "# Read CSV files into separate dataframes\n",
    "dfs = [pd.read_csv(file, index_col=0,header=None, names=['id','x','y','z']) for file in csv_files]\n",
    "\n",
    "# Concatenate dataframes into a single dataframe\n",
    "df = pd.concat(dfs, ignore_index=False)\n",
    "\n",
    "# Renumber the first column from zero to the number of lines\n",
    "# df.reset_index(drop=True, inplace=True)\n",
    "\n",
    "# Save the concatenated dataframe as a CSV file\n",
    "df.to_csv('/home/user/Downloads/rbc300/cal/all_planes.csv', index=True, header=False)"
   ]
  },
  {
   "cell_type": "code",
   "execution_count": null,
   "metadata": {},
   "outputs": [],
   "source": []
  }
 ],
 "metadata": {
  "kernelspec": {
   "display_name": "pyptv",
   "language": "python",
   "name": "python3"
  },
  "language_info": {
   "codemirror_mode": {
    "name": "ipython",
    "version": 3
   },
   "file_extension": ".py",
   "mimetype": "text/x-python",
   "name": "python",
   "nbconvert_exporter": "python",
   "pygments_lexer": "ipython3",
   "version": "3.11.9"
  }
 },
 "nbformat": 4,
 "nbformat_minor": 2
}
