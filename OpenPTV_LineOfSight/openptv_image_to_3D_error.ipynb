{
 "cells": [
  {
   "cell_type": "code",
   "execution_count": 2,
   "metadata": {},
   "outputs": [],
   "source": [
    "# Creating 3D points and quantifying its difference from the ground truth"
   ]
  },
  {
   "cell_type": "code",
   "execution_count": 3,
   "metadata": {},
   "outputs": [],
   "source": [
    "from openptv_python.calibration import Calibration\n",
    "from openptv_python.parameters import ControlPar, VolumePar\n",
    "from openptv_python.trafo import pixel_to_metric, dist_to_flat, metric_to_pixel\n",
    "from openptv_python.multimed import ray_tracing, move_along_ray\n",
    "from openptv_python.imgcoord import img_coord\n",
    "from openptv_python.orientation import point_position\n",
    "import numpy as np\n",
    "import matplotlib.pyplot as plt"
   ]
  },
  {
   "cell_type": "code",
   "execution_count": null,
   "metadata": {},
   "outputs": [],
   "source": [
    "# Read the required stuff from the working folder\n",
    "import pathlib, os\n",
    "working_path = pathlib.Path('OpenPTV_LineOfSight')\n",
    "\n",
    "camera_1_calibration = Calibration().from_file(os.path.join(working_path,\"calibration\",\"cam1.tif.ori\"), None)\n",
    "camera_2_calibration = Calibration().from_file(os.path.join(working_path,\"calibration\",\"cam2.tif.ori\"), None)\n",
    "\n",
    "control_parameters = ControlPar().from_file(os.path.join(working_path,\"parameters\",\"ptv.par\"))\n",
    "volume_parameters = VolumePar().from_file(os.path.join(working_path,\"parameters\",\"criteria.par\"))"
   ]
  },
  {
   "cell_type": "code",
   "execution_count": null,
   "metadata": {},
   "outputs": [],
   "source": []
  },
  {
   "cell_type": "code",
   "execution_count": null,
   "metadata": {},
   "outputs": [],
   "source": [
    "# def point_position(\n",
    "#     targets: np.ndarray,\n",
    "#     num_cams: int,\n",
    "#     multimed_pars: MultimediaPar,\n",
    "#     cals: List[Calibration],\n",
    "# ) -> Tuple[float, np.ndarray]"
   ]
  }
 ],
 "metadata": {
  "kernelspec": {
   "display_name": "openptvpy",
   "language": "python",
   "name": "python3"
  },
  "language_info": {
   "codemirror_mode": {
    "name": "ipython",
    "version": 3
   },
   "file_extension": ".py",
   "mimetype": "text/x-python",
   "name": "python",
   "nbconvert_exporter": "python",
   "pygments_lexer": "ipython3",
   "version": "3.12.2"
  }
 },
 "nbformat": 4,
 "nbformat_minor": 2
}
