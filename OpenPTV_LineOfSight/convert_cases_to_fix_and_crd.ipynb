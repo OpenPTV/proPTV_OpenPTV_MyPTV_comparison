{
 "cells": [
  {
   "cell_type": "code",
   "execution_count": null,
   "metadata": {},
   "outputs": [],
   "source": [
    "# This notebook is to convert calibration cases created by Robin into the format that can be used by the calibration tool\n",
    "# The calibration tool requires the following format:\n"
   ]
  },
  {
   "cell_type": "code",
   "execution_count": null,
   "metadata": {},
   "outputs": [],
   "source": [
    "# OpenPTV requires for the case of Multiplane calibration the following format:\n",
    "# .crd and .fix files\n",
    "\n",
    "\n",
    "# plane1_cam1.tif.fix:\n",
    "\"\"\" \n",
    "   0.00000   15.00000   15.00000  274.00000\n",
    "   1.00000   30.00000   15.00000  274.00000\n",
    "   2.00000   45.00000   15.00000  274.00000\n",
    "   3.00000   60.00000   15.00000  274.00000\n",
    "   4.00000   75.00000   15.00000  274.00000\n",
    "   5.00000   90.00000   15.00000  274.00000\n",
    "\"\"\"\n",
    "\n",
    "# plane1_cam1.tif.crd: \n",
    "\"\"\"\n",
    "  0.00000 315.94791 1997.48086\n",
    "  1.00000 411.23412 1997.85856\n",
    "  2.00000 507.31137 1998.25029\n",
    "  3.00000 604.33361 1998.40124\n",
    "  4.00000 702.21405 1998.50122\n",
    "  5.00000 800.80803 1998.78058\n",
    "  6.00000 900.03065 1998.74938\n",
    "  7.00000 1000.25174 1998.77980\n",
    "\"\"\"\n",
    "\n",
    "# /cases folder contain the data in Robin's format:\n"
   ]
  },
  {
   "cell_type": "code",
   "execution_count": null,
   "metadata": {},
   "outputs": [],
   "source": [
    "def save_point_sets(self, i_cam):\n",
    "    \"\"\"\n",
    "    Saves detected and known calibration points in crd and fix format, respectively.\n",
    "    These files are needed for multiplane calibration.\n",
    "    \"\"\"\n",
    "\n",
    "    ori = self.calParams.img_ori[i_cam]\n",
    "    txt_detected = ori.replace(\"ori\", \"crd\")\n",
    "    txt_matched = ori.replace(\"ori\", \"fix\")\n",
    "\n",
    "    detected, known = [], []\n",
    "    targs = self.sorted_targs[i_cam]\n",
    "    for i, t in enumerate(targs):\n",
    "        if t.pnr() != -999:\n",
    "            detected.append(t.pos())\n",
    "            known.append(self.cal_points[\"pos\"][i])\n",
    "    nums = np.arange(len(detected))\n",
    "    # for pnr in nums:\n",
    "    #     print(targs[pnr].pnr())\n",
    "    #     print(targs[pnr].pos())\n",
    "    #   detected[pnr] = targs[pnr].pos()\n",
    "\n",
    "    detected = np.hstack((nums[:, None], np.array(detected)))\n",
    "    known = np.hstack((nums[:, None], np.array(known)))\n",
    "\n",
    "    np.savetxt(txt_detected, detected, fmt=\"%9.5f\")\n",
    "    np.savetxt(txt_matched, known, fmt=\"%10.5f\")"
   ]
  },
  {
   "cell_type": "markdown",
   "metadata": {},
   "source": []
  }
 ],
 "metadata": {
  "language_info": {
   "name": "python"
  }
 },
 "nbformat": 4,
 "nbformat_minor": 2
}
