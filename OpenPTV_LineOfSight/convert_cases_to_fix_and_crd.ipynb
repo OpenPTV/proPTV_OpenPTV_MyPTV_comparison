{
 "cells": [
  {
   "cell_type": "code",
   "execution_count": 70,
   "metadata": {},
   "outputs": [],
   "source": [
    "# This notebook is to convert calibration cases created by Robin into the format that can be used by the calibration tool\n",
    "# The calibration tool requires the following format:\n"
   ]
  },
  {
   "cell_type": "code",
   "execution_count": 71,
   "metadata": {},
   "outputs": [],
   "source": [
    "import pandas as pd\n",
    "import numpy as np\n",
    "import os"
   ]
  },
  {
   "cell_type": "code",
   "execution_count": 72,
   "metadata": {},
   "outputs": [
    {
     "data": {
      "text/plain": [
       "'\\n# x,y,X,Y,Z\\n3.150000000000000000e+02 1.996000000000000000e+03 1.500000000000000000e+01 1.500000000000000000e+01 2.740000000000000000e+02\\n4.100000000000000000e+02 1.997000000000000000e+03 3.000000000000000000e+01 1.500000000000000000e+01 2.740000000000000000e+02\\n5.060000000000000000e+02 1.997000000000000000e+03 4.500000000000000000e+01 1.500000000000000000e+01 2.740000000000000000e+02\\n6.030000000000000000e+02 1.997000000000000000e+03 6.000000000000000000e+01 1.500000000000000000e+01 2.740000000000000000e+02\\n7.010000000000000000e+02 1.998000000000000000e+03 7.500000000000000000e+01 1.500000000000000000e+01 2.740000000000000000e+02\\n8.000000000000000000e+02 1.998000000000000000e+03 9.000000000000000000e+01 1.500000000000000000e+01 2.740000000000000000e+02\\n'"
      ]
     },
     "execution_count": 72,
     "metadata": {},
     "output_type": "execute_result"
    }
   ],
   "source": [
    "# OpenPTV requires for the case of Multiplane calibration the following format:\n",
    "# .crd and .fix files\n",
    "\n",
    "\n",
    "# plane1_cam1.tif.fix:\n",
    "\"\"\" \n",
    "   0.00000   15.00000   15.00000  274.00000\n",
    "   1.00000   30.00000   15.00000  274.00000\n",
    "   2.00000   45.00000   15.00000  274.00000\n",
    "   3.00000   60.00000   15.00000  274.00000\n",
    "   4.00000   75.00000   15.00000  274.00000\n",
    "   5.00000   90.00000   15.00000  274.00000\n",
    "\"\"\"\n",
    "\n",
    "# plane1_cam1.tif.crd: \n",
    "\"\"\"\n",
    "  0.00000 315.94791 1997.48086\n",
    "  1.00000 411.23412 1997.85856\n",
    "  2.00000 507.31137 1998.25029\n",
    "  3.00000 604.33361 1998.40124\n",
    "  4.00000 702.21405 1998.50122\n",
    "  5.00000 800.80803 1998.78058\n",
    "  6.00000 900.03065 1998.74938\n",
    "  7.00000 1000.25174 1998.77980\n",
    "\"\"\"\n",
    "\n",
    "# /cases folder contain the data in Robin's format:\n",
    "# markers_c0.txt\n",
    "\n",
    "\"\"\"\n",
    "# x,y,X,Y,Z\n",
    "3.150000000000000000e+02 1.996000000000000000e+03 1.500000000000000000e+01 1.500000000000000000e+01 2.740000000000000000e+02\n",
    "4.100000000000000000e+02 1.997000000000000000e+03 3.000000000000000000e+01 1.500000000000000000e+01 2.740000000000000000e+02\n",
    "5.060000000000000000e+02 1.997000000000000000e+03 4.500000000000000000e+01 1.500000000000000000e+01 2.740000000000000000e+02\n",
    "6.030000000000000000e+02 1.997000000000000000e+03 6.000000000000000000e+01 1.500000000000000000e+01 2.740000000000000000e+02\n",
    "7.010000000000000000e+02 1.998000000000000000e+03 7.500000000000000000e+01 1.500000000000000000e+01 2.740000000000000000e+02\n",
    "8.000000000000000000e+02 1.998000000000000000e+03 9.000000000000000000e+01 1.500000000000000000e+01 2.740000000000000000e+02\n",
    "\"\"\"\n",
    "\n"
   ]
  },
  {
   "cell_type": "code",
   "execution_count": 73,
   "metadata": {},
   "outputs": [],
   "source": [
    "class Parameter:\n",
    "    cams = [0,1,2,3]\n",
    "    Vmin = [0,0,0]\n",
    "    Vmax = [300,300,300]\n",
    "    N1, N2 = 361, 5\n",
    "\n",
    "params = Parameter()\n",
    "\n",
    "markers = [np.loadtxt('../cases/case_allmarkers/markers_c'+str(cam)+'.txt') for cam in params.cams]"
   ]
  },
  {
   "cell_type": "code",
   "execution_count": 74,
   "metadata": {},
   "outputs": [
    {
     "ename": "TypeError",
     "evalue": "'module' object is not callable",
     "output_type": "error",
     "traceback": [
      "\u001b[0;31m---------------------------------------------------------------------------\u001b[0m",
      "\u001b[0;31mTypeError\u001b[0m                                 Traceback (most recent call last)",
      "Cell \u001b[0;32mIn[74], line 5\u001b[0m\n\u001b[1;32m      1\u001b[0m \u001b[38;5;124;03m\"\"\"\u001b[39;00m\n\u001b[1;32m      2\u001b[0m \u001b[38;5;124;03mSaves detected and known calibration points in crd and fix format, respectively.\u001b[39;00m\n\u001b[1;32m      3\u001b[0m \u001b[38;5;124;03mThese files are needed for multiplane calibration.\u001b[39;00m\n\u001b[1;32m      4\u001b[0m \u001b[38;5;124;03m\"\"\"\u001b[39;00m\n\u001b[0;32m----> 5\u001b[0m path \u001b[38;5;241m=\u001b[39m \u001b[43mos\u001b[49m\u001b[38;5;241;43m.\u001b[39;49m\u001b[43mpath\u001b[49m\u001b[43m(\u001b[49m\u001b[38;5;124;43m'\u001b[39;49m\u001b[38;5;124;43m/home/user/Downloads/rbc300/cal\u001b[39;49m\u001b[38;5;124;43m'\u001b[39;49m\u001b[43m)\u001b[49m\n\u001b[1;32m      6\u001b[0m \u001b[38;5;28;01mfor\u001b[39;00m c \u001b[38;5;129;01min\u001b[39;00m params\u001b[38;5;241m.\u001b[39mcams:\n\u001b[1;32m      8\u001b[0m     XYZ \u001b[38;5;241m=\u001b[39m markers[c][:,\u001b[38;5;241m2\u001b[39m:]\n",
      "\u001b[0;31mTypeError\u001b[0m: 'module' object is not callable"
     ]
    }
   ],
   "source": [
    "\"\"\"\n",
    "Saves detected and known calibration points in crd and fix format, respectively.\n",
    "These files are needed for multiplane calibration.\n",
    "\"\"\"\n",
    "path = '/home/user/Downloads/rbc300/cal'\n",
    "for c in params.cams:\n",
    "\n",
    "    XYZ = markers[c][:,2:]\n",
    "    xy = markers[c][:,:2]\n",
    "\n",
    "    for plane, z in enumerate(np.unique(XYZ[:,2])):\n",
    "        txt_detected = os.path.join(path, 'plane'+str(plane+1)+'_cam'+str(c+1)+'.tif.crd')\n",
    "        txt_matched = os.path.join(path, 'plane'+str(plane+1)+'_cam'+str(c+1)+'.tif.fix')\n",
    "\n",
    "        ind = np.argwhere(XYZ[:,2]==z)[:,0]\n",
    "        detected = np.c_[np.arange(len(ind)), xy[ind]]\n",
    "        known = np.c_[np.arange(len(ind)), XYZ[ind]]\n",
    "\n",
    "        np.savetxt(txt_detected, detected, fmt=\"%9.5f\")\n",
    "        np.savetxt(txt_matched, known, fmt=\"%10.5f\")"
   ]
  }
 ],
 "metadata": {
  "kernelspec": {
   "display_name": "pyptv",
   "language": "python",
   "name": "python3"
  },
  "language_info": {
   "codemirror_mode": {
    "name": "ipython",
    "version": 3
   },
   "file_extension": ".py",
   "mimetype": "text/x-python",
   "name": "python",
   "nbconvert_exporter": "python",
   "pygments_lexer": "ipython3",
   "version": "3.11.9"
  }
 },
 "nbformat": 4,
 "nbformat_minor": 2
}
