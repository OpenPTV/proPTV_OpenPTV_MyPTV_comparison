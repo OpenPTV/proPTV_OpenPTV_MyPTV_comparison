{
 "cells": [
  {
   "cell_type": "markdown",
   "metadata": {},
   "source": [
    "# OpenPTV calibration using given markers and liboptv"
   ]
  },
  {
   "cell_type": "code",
   "execution_count": 2,
   "metadata": {},
   "outputs": [],
   "source": [
    "# liboptv is different from openptv_python cause it's a C library with Cython bindings. requires different installation"
   ]
  },
  {
   "cell_type": "code",
   "execution_count": 3,
   "metadata": {},
   "outputs": [],
   "source": [
    "\n",
    "import numpy as np\n",
    "from scipy.optimize import minimize\n",
    "\n",
    "import pathlib, os\n",
    "working_path = pathlib.Path.cwd()"
   ]
  },
  {
   "cell_type": "code",
   "execution_count": 4,
   "metadata": {},
   "outputs": [],
   "source": [
    "n_cams = 4\n",
    "\n",
    "from optv.parameters import ControlParams, VolumeParams\n",
    "cpar = ControlParams(n_cams)\n",
    "cpar.read_control_par(b\"parameters/ptv.par\")\n"
   ]
  },
  {
   "cell_type": "code",
   "execution_count": 5,
   "metadata": {},
   "outputs": [
    {
     "data": {
      "text/plain": [
       "(2560, 2048)"
      ]
     },
     "execution_count": 5,
     "metadata": {},
     "output_type": "execute_result"
    }
   ],
   "source": [
    "cpar.get_image_size()"
   ]
  },
  {
   "cell_type": "code",
   "execution_count": 6,
   "metadata": {},
   "outputs": [
    {
     "data": {
      "text/plain": [
       "(array([-50., -50.]), array([1500., 1500.]))"
      ]
     },
     "execution_count": 6,
     "metadata": {},
     "output_type": "execute_result"
    }
   ],
   "source": [
    "\n",
    "vpar = VolumeParams()\n",
    "vpar.read_volume_par(b\"parameters/criteria.par\")\n",
    "vpar.get_Zmin_lay(), vpar.get_Zmax_lay()"
   ]
  },
  {
   "cell_type": "code",
   "execution_count": null,
   "metadata": {},
   "outputs": [
    {
     "name": "stdout",
     "output_type": "stream",
     "text": [
      "b'calibration/cam4.tif'\n"
     ]
    }
   ],
   "source": [
    "from optv.calibration import Calibration"
   ]
  },
  {
   "cell_type": "code",
   "execution_count": 8,
   "metadata": {},
   "outputs": [
    {
     "name": "stdout",
     "output_type": "stream",
     "text": [
      "b'calibration/cam1.tif'\n",
      "[1908.5163676   159.83947734 3792.73650968] [ 0.0767755   0.43684216 -0.02824231]\n",
      "b'calibration/cam2.tif'\n",
      "[1918.50582672 2013.94616486 3790.84376551] [-0.54238883  0.38101067  0.22269959]\n",
      "b'calibration/cam3.tif'\n",
      "[-832.68057493  140.62429132 3808.29859692] [ 0.07130939 -0.39820728  0.02391263]\n",
      "b'calibration/cam4.tif'\n",
      "[-795.65582216 1982.45343091 3867.24986954] [-0.51564722 -0.33215712 -0.17554908]\n"
     ]
    }
   ],
   "source": [
    "cals = []\n",
    "for i_cam in range(n_cams):\n",
    "    cal = Calibration()\n",
    "    tmp = cpar.get_cal_img_base_name(i_cam)\n",
    "    print(tmp)\n",
    "    cal.from_file(tmp + b\".ori\", tmp + b\".addpar\")\n",
    "    print(cal.get_pos(), cal.get_angles())\n",
    "    cals.append(cal)"
   ]
  },
  {
   "cell_type": "code",
   "execution_count": 15,
   "metadata": {},
   "outputs": [],
   "source": [
    "\n",
    "from optv.transforms import convert_arr_metric_to_pixel\n",
    "from optv.imgcoord import image_coordinates\n",
    "\n",
    "for plane_z in [0, 350, 700, 1050, 1400]:\n",
    "\n",
    "    # Save the modified data to a new file\n",
    "    data = np.loadtxt(f'calibration/new_plane_{plane_z}.txt')\n",
    "    targets = convert_arr_metric_to_pixel(\n",
    "        image_coordinates(data[:,1:], cal, cpar.get_multimedia_params()),\n",
    "    cpar,\n",
    "    )\n",
    "\n",
    "    # Combine targets and corresponding XYZ data\n",
    "    combined_data = np.hstack((targets, data[:, 1:]))\n",
    "\n",
    "    # Save to CSV file\n",
    "    np.savetxt(f'calibration/targets_plane_{plane_z}.csv', combined_data, delimiter=',', header='x,y,X,Y,Z', comments='')\n"
   ]
  },
  {
   "cell_type": "code",
   "execution_count": null,
   "metadata": {},
   "outputs": [],
   "source": [
    "def array_to_calibration(x:np.ndarray, cal:Calibration) -> None:\n",
    "    cal.set_pos(x[:3])\n",
    "    cal.set_angles(x[3:6])\n",
    "    cal.set_primary_point(x[6:9])\n",
    "    cal.set_radial_distortion(x[9:12])\n",
    "    cal.set_decentering(x[12:14])\n",
    "    cal.set_affine_trans(x[14:])\n",
    "    return None\n",
    "\n",
    "def calibration_to_array(cal:Calibration) -> np.ndarray:\n",
    "    return np.concatenate([\n",
    "        cal.get_pos(),\n",
    "        cal.get_angles(),\n",
    "        cal.get_primary_point(),\n",
    "        cal.get_radial_distortion(),\n",
    "        cal.get_decentering(),\n",
    "        cal.get_affine(),\n",
    "    ])"
   ]
  },
  {
   "cell_type": "code",
   "execution_count": null,
   "metadata": {},
   "outputs": [],
   "source": [
    "def error_function(x, cal, XYZ, xy, cpar):\n",
    "    \n",
    "    array_to_calibration(x, cal)\n",
    "\n",
    "    # print(np.concatenate([\n",
    "    #     cal.get_pos(),\n",
    "    #     cal.get_angles(),\n",
    "    #     cal.get_primary_point(),\n",
    "    #     cal.get_radial_distortion(),\n",
    "    #     cal.get_decentering(),\n",
    "    #     cal.get_affine(),\n",
    "    # ]))\n",
    "    \n",
    "    targets = convert_arr_metric_to_pixel(\n",
    "        image_coordinates(XYZ, cal, cpar.get_multimedia_params()),\n",
    "    cpar,\n",
    "    )\n",
    "    # err = np.sum(np.abs(xy - targets))\n",
    "    err = np.sum((xy - targets)**2)\n",
    "    # print(err)\n",
    "    return err"
   ]
  },
  {
   "cell_type": "code",
   "execution_count": null,
   "metadata": {},
   "outputs": [],
   "source": [
    "\n",
    "x0 = calibration_to_array(cal)\n",
    "print(x0)\n"
   ]
  },
  {
   "cell_type": "code",
   "execution_count": null,
   "metadata": {},
   "outputs": [],
   "source": [
    "sol = minimize(error_function, x0, args=(cal, XYZ, xy, cpar), method='Nelder-Mead', tol=1e-11)"
   ]
  },
  {
   "cell_type": "code",
   "execution_count": null,
   "metadata": {},
   "outputs": [],
   "source": [
    "sol.x\n",
    "\n"
   ]
  },
  {
   "cell_type": "code",
   "execution_count": null,
   "metadata": {},
   "outputs": [],
   "source": [
    "array_to_calibration(sol.x, cal)\n",
    "\n",
    "targets = convert_arr_metric_to_pixel(\n",
    "    image_coordinates(ref_pts, cal, cpar.get_multimedia_params()),\n",
    "cpar,\n",
    ")\n",
    "four_points - targets\n"
   ]
  },
  {
   "cell_type": "code",
   "execution_count": null,
   "metadata": {},
   "outputs": [],
   "source": [
    "targets = convert_arr_metric_to_pixel(\n",
    "    image_coordinates(XYZ, cal, cpar.get_multimedia_params()),\n",
    "cpar,\n",
    ")\n"
   ]
  },
  {
   "cell_type": "code",
   "execution_count": null,
   "metadata": {},
   "outputs": [],
   "source": [
    "\n",
    "import plotly.figure_factory as ff\n",
    "# px.scatter(x=xy[:,0], y=xy[:,1], color=ID).show()\n",
    "fig = ff.create_quiver(x=xy[:,0], y=xy[:,1], u=targets[:,0]-xy[:,0], v=targets[:,1]-xy[:,1], scale=5)\n",
    "fig.show()\n"
   ]
  },
  {
   "cell_type": "code",
   "execution_count": null,
   "metadata": {},
   "outputs": [],
   "source": [
    "# cal.write(working_path / \"calibration\" / \"cam{cam_id}_scipy.ori\", working_path / \"calibration\" / \"cam{cam_id}_scipy.addpar\")"
   ]
  }
 ],
 "metadata": {
  "kernelspec": {
   "display_name": "pyptv",
   "language": "python",
   "name": "python3"
  },
  "language_info": {
   "codemirror_mode": {
    "name": "ipython",
    "version": 3
   },
   "file_extension": ".py",
   "mimetype": "text/x-python",
   "name": "python",
   "nbconvert_exporter": "python",
   "pygments_lexer": "ipython3",
   "version": "3.10.15"
  }
 },
 "nbformat": 4,
 "nbformat_minor": 2
}
