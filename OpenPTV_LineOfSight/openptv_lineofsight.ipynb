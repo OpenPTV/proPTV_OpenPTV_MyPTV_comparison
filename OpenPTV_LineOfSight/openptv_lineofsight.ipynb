{
 "cells": [
  {
   "cell_type": "code",
   "execution_count": 16,
   "metadata": {},
   "outputs": [],
   "source": [
    "# if you need to install openptv-python, it's recommended to use conda\n",
    "\n",
    "# Create conda environment with openptv-python\n",
    "# conda create -n openptv_lineofsight python=3.10\n",
    "# conda activate openptv_lineofsight\n",
    "# pip install git+https://github.com/openptv/openptv-python.git\n",
    "# conda install jupyter matplotlib numpy numba"
   ]
  },
  {
   "cell_type": "code",
   "execution_count": 17,
   "metadata": {},
   "outputs": [],
   "source": [
    "from openptv_python.calibration import Calibration\n",
    "from openptv_python.parameters import ControlPar, VolumePar\n",
    "import numpy as np\n",
    "\n"
   ]
  },
  {
   "cell_type": "code",
   "execution_count": 18,
   "metadata": {},
   "outputs": [],
   "source": [
    "# openptv way to get the line in 3D from the point in the image space and \n",
    "# the calibration parameters\n",
    "\n",
    "\n",
    "def epipolar_curve_in_3D(\n",
    "    image_point,\n",
    "    origin_cam: Calibration,\n",
    "    num_points: int,\n",
    "    cparam: ControlPar,\n",
    "    vparam: VolumePar,\n",
    ") -> np.ndarray:\n",
    "    \"\"\"\n",
    "    Get the points lying on the epipolar line from one camera to the other, on.\n",
    "\n",
    "    the edges of the observed volume. Gives pixel coordinates.\n",
    "\n",
    "    Assumes the same volume applies to all cameras.\n",
    "\n",
    "    Arguments:\n",
    "    ---------\n",
    "    image_point - the 2D point on the image\n",
    "        plane of the camera seeing the point. Distorted pixel coordinates.\n",
    "    Calibration origin_cam - current position and other parameters of the\n",
    "        camera seeing the point.\n",
    "    int num_points - the number of points to generate along the line. Minimum\n",
    "        is 2 for both endpoints.\n",
    "    ControlParams cparam - an object holding general control parameters.\n",
    "    VolumeParams vparam - an object holding observed volume size parameters.\n",
    "\n",
    "    Returns\n",
    "    -------\n",
    "    line_points - (num_points,2) array with projection camera image coordinates\n",
    "        of points lying on the ray stretching from the minimal Z coordinate of\n",
    "        the observed volume to the maximal Z thereof, and connecting the camera\n",
    "        with the image point on the origin camera.\n",
    "    \"\"\"\n",
    "\n",
    "    line_points = np.empty((num_points, 3))\n",
    "\n",
    "    # Move from distorted pixel coordinates to straight metric coordinates.\n",
    "    x, y = pixel_to_metric(image_point[0], image_point[1], cparam)\n",
    "    x, y = dist_to_flat(x, y, origin_cam, 0.00001)\n",
    "\n",
    "    vertex, direct = ray_tracing(x, y, origin_cam, cparam.mm)\n",
    "\n",
    "    for pt_ix, Z in enumerate(\n",
    "        np.linspace(vparam.z_min_lay[0], vparam.z_max_lay[0], num_points)\n",
    "    ):\n",
    "        # x = line_points[pt_ix], 0)\n",
    "        # y = <double *>np.PyArray_GETPTR2(line_points, pt_ix, 1)\n",
    "\n",
    "        line_points[pt_ix, :] = move_along_ray(Z, vertex, direct)\n",
    "        \n",
    "        # x, y = img_coord(pos, project_cam, cparam.mm)\n",
    "        # line_points[pt_ix, 0], line_points[pt_ix, 1] = metric_to_pixel(x, y, cparam)\n",
    "\n",
    "    return line_points"
   ]
  },
  {
   "cell_type": "code",
   "execution_count": 19,
   "metadata": {},
   "outputs": [
    {
     "name": "stdout",
     "output_type": "stream",
     "text": [
      "cal\t\t    parameters\t\t       parametersPlane2  res\n",
      "calibration_images  parametersBackup\t       parametersPlane3  tmp.addpar\n",
      "cal.zip\t\t    parametersMultiPlane       parametersPlane4\n",
      "img\t\t    parameters_MultiPlane_Run  parametersPlane5\n",
      "man_ori.dat\t    parametersPlane1\t       particle_images\n"
     ]
    }
   ],
   "source": [
    "!ls '/home/user/Downloads/rbc300'"
   ]
  },
  {
   "cell_type": "code",
   "execution_count": 21,
   "metadata": {},
   "outputs": [
    {
     "name": "stdout",
     "output_type": "stream",
     "text": [
      "no addpar file, use default values 0 0 0 0 0 1 0\n"
     ]
    }
   ],
   "source": [
    "# Read the required stuff from the working folder\n",
    "import pathlib, os\n",
    "working_path = pathlib.Path('/home/user/Downloads/rbc300')\n",
    "calibration = Calibration().from_file(os.path.join(working_path,\"cal\",\"cam1.tif.ori\"), None )"
   ]
  },
  {
   "cell_type": "code",
   "execution_count": 23,
   "metadata": {},
   "outputs": [
    {
     "data": {
      "text/plain": [
       "rec.array((328.98208759, -28.87301302, 945.67240814, 0.17977266, 0.20028117, -0.03212693, [[ 0.97950497,  0.03147932,  0.19894489], [ 0.00395042,  0.9845193 , -0.17523169], [-0.20138126,  0.17242623,  0.96421719]]),\n",
       "          dtype=[('x0', '<f8'), ('y0', '<f8'), ('z0', '<f8'), ('omega', '<f8'), ('phi', '<f8'), ('kappa', '<f8'), ('dm', '<f8', (3, 3))])"
      ]
     },
     "execution_count": 23,
     "metadata": {},
     "output_type": "execute_result"
    }
   ],
   "source": [
    "calibration.ext_par"
   ]
  },
  {
   "cell_type": "code",
   "execution_count": null,
   "metadata": {},
   "outputs": [],
   "source": []
  }
 ],
 "metadata": {
  "kernelspec": {
   "display_name": "openptv_lineofsight",
   "language": "python",
   "name": "python3"
  },
  "language_info": {
   "codemirror_mode": {
    "name": "ipython",
    "version": 3
   },
   "file_extension": ".py",
   "mimetype": "text/x-python",
   "name": "python",
   "nbconvert_exporter": "python",
   "pygments_lexer": "ipython3",
   "version": "3.10.13"
  }
 },
 "nbformat": 4,
 "nbformat_minor": 2
}
