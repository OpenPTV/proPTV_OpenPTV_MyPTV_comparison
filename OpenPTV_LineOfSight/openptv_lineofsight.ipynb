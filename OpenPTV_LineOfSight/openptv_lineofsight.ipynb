{
 "cells": [
  {
   "cell_type": "code",
   "execution_count": 1,
   "metadata": {},
   "outputs": [],
   "source": [
    "# if you need to install openptv-python, it's recommended to use conda\n",
    "\n",
    "# Create conda environment with openptv-python\n",
    "# conda create -n openptv_lineofsight python=3.10\n",
    "# conda activate openptv_lineofsight\n",
    "# pip install git+https://github.com/openptv/openptv-python.git\n",
    "# conda install jupyter matplotlib numpy numba"
   ]
  },
  {
   "cell_type": "code",
   "execution_count": 2,
   "metadata": {},
   "outputs": [],
   "source": [
    "from openptv_python.calibration import Calibration\n",
    "from openptv_python.parameters import ControlPar, VolumePar\n",
    "from openptv_python.trafo import pixel_to_metric, dist_to_flat\n",
    "from openptv_python.multimed import ray_tracing, move_along_ray\n",
    "import numpy as np\n",
    "import matplotlib.pyplot as plt\n",
    "\n"
   ]
  },
  {
   "cell_type": "code",
   "execution_count": 3,
   "metadata": {},
   "outputs": [],
   "source": [
    "# openptv way to get the line in 3D from the point in the image space and \n",
    "# the calibration parameters\n",
    "\n",
    "\n",
    "def epipolar_curve_in_3D(\n",
    "    image_point,\n",
    "    origin_cam: Calibration,\n",
    "    num_points: int,\n",
    "    cparam: ControlPar,\n",
    "    vparam: VolumePar,\n",
    ") -> np.ndarray:\n",
    "    \"\"\"\n",
    "    Get the points lying on the epipolar line from one camera to the other, on.\n",
    "\n",
    "    the edges of the observed volume. Gives pixel coordinates.\n",
    "\n",
    "    Assumes the same volume applies to all cameras.\n",
    "\n",
    "    Arguments:\n",
    "    ---------\n",
    "    image_point - the 2D point on the image\n",
    "        plane of the camera seeing the point. Distorted pixel coordinates.\n",
    "    Calibration origin_cam - current position and other parameters of the\n",
    "        camera seeing the point.\n",
    "    int num_points - the number of points to generate along the line. Minimum\n",
    "        is 2 for both endpoints.\n",
    "    ControlParams cparam - an object holding general control parameters.\n",
    "    VolumeParams vparam - an object holding observed volume size parameters.\n",
    "\n",
    "    Returns\n",
    "    -------\n",
    "    line_points - (num_points,2) array with projection camera image coordinates\n",
    "        of points lying on the ray stretching from the minimal Z coordinate of\n",
    "        the observed volume to the maximal Z thereof, and connecting the camera\n",
    "        with the image point on the origin camera.\n",
    "    \"\"\"\n",
    "\n",
    "    line_points = np.empty((num_points, 3))\n",
    "\n",
    "    # Move from distorted pixel coordinates to straight metric coordinates.\n",
    "    x, y = pixel_to_metric(image_point[0], image_point[1], cparam)\n",
    "    x, y = dist_to_flat(x, y, origin_cam, 0.00001)\n",
    "\n",
    "    vertex, direct = ray_tracing(x, y, origin_cam, cparam.mm)\n",
    "\n",
    "    for pt_ix, Z in enumerate(\n",
    "        np.linspace(vparam.z_min_lay[0], vparam.z_max_lay[0], num_points)\n",
    "    ):\n",
    "        # x = line_points[pt_ix], 0)\n",
    "        # y = <double *>np.PyArray_GETPTR2(line_points, pt_ix, 1)\n",
    "\n",
    "        line_points[pt_ix, :] = move_along_ray(Z, vertex, direct)\n",
    "        \n",
    "        # x, y = img_coord(pos, project_cam, cparam.mm)\n",
    "        # line_points[pt_ix, 0], line_points[pt_ix, 1] = metric_to_pixel(x, y, cparam)\n",
    "\n",
    "    return line_points"
   ]
  },
  {
   "cell_type": "code",
   "execution_count": 4,
   "metadata": {},
   "outputs": [
    {
     "name": "stdout",
     "output_type": "stream",
     "text": [
      "cal\t\t\t\t\t     parameters_MultiPlane_Run\n",
      "calibration_images\t\t\t     parametersPlane1\n",
      "cal.zip\t\t\t\t\t     parametersPlane2\n",
      "detect_blobs_using_skimage_16bit_tiff.ipynb  parametersPlane3\n",
      "img\t\t\t\t\t     parametersPlane4\n",
      "man_ori.dat\t\t\t\t     parametersPlane5\n",
      "parameters\t\t\t\t     res\n",
      "parametersBackup\t\t\t     tmp.addpar\n",
      "parametersMultiPlane\n"
     ]
    }
   ],
   "source": [
    "!ls '/home/user/Downloads/rbc300'"
   ]
  },
  {
   "cell_type": "code",
   "execution_count": 5,
   "metadata": {},
   "outputs": [],
   "source": [
    "# Read the required stuff from the working folder\n",
    "import pathlib, os\n",
    "working_path = pathlib.Path('/home/user/Downloads/rbc300')\n"
   ]
  },
  {
   "cell_type": "code",
   "execution_count": 6,
   "metadata": {},
   "outputs": [
    {
     "name": "stdout",
     "output_type": "stream",
     "text": [
      "328.98208759 -28.87301302 945.67240814\n",
      "0.17977266 0.20028117 -0.03212693\n",
      "\n",
      "0.9795050 0.0314793 0.1989449\n",
      "0.0039504 0.9845193 -0.1752317\n",
      "-0.2013813 0.1724262 0.9642172\n",
      "\n",
      "-0.1093 0.0828\n",
      "41.0000\n",
      "\n",
      "0.000000000000000 0.000000000000000 150.000000000000000\n",
      "\n"
     ]
    }
   ],
   "source": [
    "with open(os.path.join(working_path, 'cal', 'cam1.tif.ori')) as f:\n",
    "    data = f.read()\n",
    "    \n",
    "print(data)\n",
    "    "
   ]
  },
  {
   "cell_type": "code",
   "execution_count": 7,
   "metadata": {},
   "outputs": [],
   "source": [
    "data = np.fromstring(data, dtype=float, sep=' ')"
   ]
  },
  {
   "cell_type": "code",
   "execution_count": 8,
   "metadata": {},
   "outputs": [
    {
     "data": {
      "text/plain": [
       "array([ 3.28982088e+02, -2.88730130e+01,  9.45672408e+02,  1.79772660e-01,\n",
       "        2.00281170e-01, -3.21269300e-02,  9.79505000e-01,  3.14793000e-02,\n",
       "        1.98944900e-01,  3.95040000e-03,  9.84519300e-01, -1.75231700e-01,\n",
       "       -2.01381300e-01,  1.72426200e-01,  9.64217200e-01, -1.09300000e-01,\n",
       "        8.28000000e-02,  4.10000000e+01,  0.00000000e+00,  0.00000000e+00,\n",
       "        1.50000000e+02])"
      ]
     },
     "execution_count": 8,
     "metadata": {},
     "output_type": "execute_result"
    }
   ],
   "source": [
    "data"
   ]
  },
  {
   "cell_type": "code",
   "execution_count": 9,
   "metadata": {},
   "outputs": [
    {
     "ename": "TypeError",
     "evalue": "Calibration.from_file() missing 1 required positional argument: 'add_file'",
     "output_type": "error",
     "traceback": [
      "\u001b[0;31m---------------------------------------------------------------------------\u001b[0m",
      "\u001b[0;31mTypeError\u001b[0m                                 Traceback (most recent call last)",
      "Cell \u001b[0;32mIn[9], line 1\u001b[0m\n\u001b[0;32m----> 1\u001b[0m calibration \u001b[38;5;241m=\u001b[39m \u001b[43mCalibration\u001b[49m\u001b[43m(\u001b[49m\u001b[43m)\u001b[49m\u001b[38;5;241;43m.\u001b[39;49m\u001b[43mfrom_file\u001b[49m\u001b[43m(\u001b[49m\u001b[43mos\u001b[49m\u001b[38;5;241;43m.\u001b[39;49m\u001b[43mpath\u001b[49m\u001b[38;5;241;43m.\u001b[39;49m\u001b[43mjoin\u001b[49m\u001b[43m(\u001b[49m\u001b[43mworking_path\u001b[49m\u001b[43m,\u001b[49m\u001b[38;5;124;43m\"\u001b[39;49m\u001b[38;5;124;43mcal\u001b[39;49m\u001b[38;5;124;43m\"\u001b[39;49m\u001b[43m,\u001b[49m\u001b[38;5;124;43m\"\u001b[39;49m\u001b[38;5;124;43mcam1.tif.ori\u001b[39;49m\u001b[38;5;124;43m\"\u001b[39;49m\u001b[43m)\u001b[49m\u001b[43m)\u001b[49m\n\u001b[1;32m      2\u001b[0m control_parameters \u001b[38;5;241m=\u001b[39m ControlPar()\u001b[38;5;241m.\u001b[39mfrom_file(os\u001b[38;5;241m.\u001b[39mpath\u001b[38;5;241m.\u001b[39mjoin(working_path,\u001b[38;5;124m\"\u001b[39m\u001b[38;5;124mparameters\u001b[39m\u001b[38;5;124m\"\u001b[39m,\u001b[38;5;124m\"\u001b[39m\u001b[38;5;124mptv.par\u001b[39m\u001b[38;5;124m\"\u001b[39m))\n\u001b[1;32m      3\u001b[0m volume_parameters \u001b[38;5;241m=\u001b[39m VolumePar()\u001b[38;5;241m.\u001b[39mfrom_file(os\u001b[38;5;241m.\u001b[39mpath\u001b[38;5;241m.\u001b[39mjoin(working_path,\u001b[38;5;124m\"\u001b[39m\u001b[38;5;124mparameters\u001b[39m\u001b[38;5;124m\"\u001b[39m,\u001b[38;5;124m\"\u001b[39m\u001b[38;5;124mcriteria.par\u001b[39m\u001b[38;5;124m\"\u001b[39m))\n",
      "\u001b[0;31mTypeError\u001b[0m: Calibration.from_file() missing 1 required positional argument: 'add_file'"
     ]
    }
   ],
   "source": [
    "calibration = Calibration().from_file(os.path.join(working_path,\"cal\",\"cam1.tif.ori\"), None)\n",
    "control_parameters = ControlPar().from_file(os.path.join(working_path,\"parameters\",\"ptv.par\"))\n",
    "volume_parameters = VolumePar().from_file(os.path.join(working_path,\"parameters\",\"criteria.par\"))"
   ]
  },
  {
   "cell_type": "code",
   "execution_count": null,
   "metadata": {},
   "outputs": [],
   "source": [
    "calibration.ext_par, control_parameters.num_cams, volume_parameters.z_min_lay, volume_parameters.z_max_lay"
   ]
  },
  {
   "cell_type": "code",
   "execution_count": null,
   "metadata": {},
   "outputs": [],
   "source": [
    "curve_3D = epipolar_curve_in_3D(\n",
    "    image_point=np.array([0,0]),\n",
    "    origin_cam = calibration,\n",
    "    num_points = 10,\n",
    "    cparam = control_parameters,\n",
    "    vparam = volume_parameters,\n",
    ")"
   ]
  },
  {
   "cell_type": "code",
   "execution_count": null,
   "metadata": {},
   "outputs": [],
   "source": [
    "cam_position = calibration.get_pos()"
   ]
  },
  {
   "cell_type": "code",
   "execution_count": null,
   "metadata": {},
   "outputs": [],
   "source": [
    "cam_position"
   ]
  },
  {
   "cell_type": "code",
   "execution_count": null,
   "metadata": {},
   "outputs": [],
   "source": [
    "# plot line of sight\n",
    "axis = plt.figure(figsize=(10,8)).add_subplot(projection='3d')\n",
    "axis.set_xlabel('X'), axis.set_ylabel('Y'), axis.set_zlabel('Z')\n",
    "axis.set_xlim(0,350), axis.set_ylim(0,350), axis.set_zlim(0,1000)\n",
    "axis.set_aspect('equal')\n",
    "\n",
    "axis.plot([0,300],[0,0],[0,0],c='black'), axis.plot([0,0],[0,300],[0,0],c='black'), axis.plot([0,0],[0,0],[0,300],c='black')\n",
    "axis.plot([300,300],[0,300],[0,0],c='black'), axis.plot([300,300],[0,0],[0,300],c='black'), axis.plot([0,300],[300,300],[0,0],c='black')\n",
    "axis.plot([0,0],[300,300],[0,300],c='black'), axis.plot([0,300],[0,0],[300,300],c='black'), axis.plot([0,0],[0,300],[300,300],c='black')\n",
    "axis.plot([300,300],[300,300],[0,300],c='black'), axis.plot([300,300],[0,300],[300,300],c='black'), axis.plot([0,300],[300,300],[300,300],c='black')\n",
    "# for lof in LOF:\n",
    "#     plt.plot( [lof[0,0],lof[0,0]+mu*lof[1,0]] , [lof[0,1],lof[0,1]+mu*lof[1,1]] , [lof[0,2],lof[0,2]+mu*lof[1,2]] ,'-',c='red')\n",
    "plt.plot(cam_position[0],cam_position[1],cam_position[2],'o',c='green')\n",
    "plt.plot(curve_3D[:,0],curve_3D[:,1],curve_3D[:,2],'-',c='red')"
   ]
  },
  {
   "cell_type": "code",
   "execution_count": null,
   "metadata": {},
   "outputs": [],
   "source": []
  }
 ],
 "metadata": {
  "kernelspec": {
   "display_name": "openptv_lineofsight",
   "language": "python",
   "name": "python3"
  },
  "language_info": {
   "codemirror_mode": {
    "name": "ipython",
    "version": 3
   },
   "file_extension": ".py",
   "mimetype": "text/x-python",
   "name": "python",
   "nbconvert_exporter": "python",
   "pygments_lexer": "ipython3",
   "version": "3.10.9"
  }
 },
 "nbformat": 4,
 "nbformat_minor": 2
}
