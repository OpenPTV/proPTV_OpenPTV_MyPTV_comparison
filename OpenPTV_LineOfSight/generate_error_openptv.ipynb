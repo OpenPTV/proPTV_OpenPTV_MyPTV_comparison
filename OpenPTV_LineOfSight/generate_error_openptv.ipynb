{
 "cells": [
  {
   "cell_type": "markdown",
   "metadata": {},
   "source": [
    "# copy of generate_error.py from proPTV"
   ]
  },
  {
   "cell_type": "code",
   "execution_count": 1,
   "metadata": {},
   "outputs": [],
   "source": [
    "# import matplotlib.pyplot as plt\n",
    "import numpy as np \n",
    "from pathlib import Path\n",
    "\n",
    "\n",
    "from optv.parameters import ControlParams, VolumeParams\n",
    "from optv.calibration import Calibration\n",
    "from optv.orientation import external_calibration, full_calibration\n",
    "\n",
    "from optv.imgcoord import image_coordinates\n",
    "from optv.transforms import convert_arr_metric_to_pixel\n",
    "from optv.orientation import point_positions\n",
    "from optv.transforms import convert_arr_pixel_to_metric, distorted_to_flat\n",
    "\n",
    "# import plotly.express as px\n",
    "import plotly.figure_factory as ff\n",
    "# import plotly.graph_objects as go\n",
    "from scipy.optimize import minimize\n"
   ]
  },
  {
   "cell_type": "code",
   "execution_count": 2,
   "metadata": {},
   "outputs": [],
   "source": [
    "\n",
    "# copy of SaveLoad.py\n",
    "# import numpy as np\n",
    "\n",
    "def LoadMarkerList(cam):\n",
    "    return np.loadtxt('markers_c'+str(cam)+'.txt')\n",
    "\n",
    "def SaveMarkerList(data):\n",
    "    # Format: x0, y0, x1, y1, x2, y2, x3, y3, X, Y, Z, dX, dY, dZ\n",
    "    return np.savetxt('markers_error.txt',data)\n",
    "\n"
   ]
  },
  {
   "cell_type": "code",
   "execution_count": 3,
   "metadata": {},
   "outputs": [],
   "source": [
    "\n",
    "class Parameter:\n",
    "    cams = [0,1,2,3]\n",
    "    Vmin = [0,0,0]\n",
    "    Vmax = [300,300,300]\n",
    "    N1, N2 = 361, 5\n",
    "\n",
    "# load parameter\n",
    "params = Parameter()\n",
    "\n"
   ]
  },
  {
   "cell_type": "code",
   "execution_count": 4,
   "metadata": {},
   "outputs": [
    {
     "data": {
      "text/plain": [
       "True"
      ]
     },
     "execution_count": 4,
     "metadata": {},
     "output_type": "execute_result"
    }
   ],
   "source": [
    "cases_path = (Path.cwd().parent / 'cases')\n",
    "cases_path.exists()"
   ]
  },
  {
   "cell_type": "code",
   "execution_count": 5,
   "metadata": {},
   "outputs": [
    {
     "name": "stdout",
     "output_type": "stream",
     "text": [
      "[PosixPath('/home/user/Documents/repos/proPTV_OpenPTV_MyPTV_comparison/cases/case_interpolation/markers_c0.txt'), PosixPath('/home/user/Documents/repos/proPTV_OpenPTV_MyPTV_comparison/cases/case_interpolation/markers_c1.txt'), PosixPath('/home/user/Documents/repos/proPTV_OpenPTV_MyPTV_comparison/cases/case_interpolation/markers_c2.txt'), PosixPath('/home/user/Documents/repos/proPTV_OpenPTV_MyPTV_comparison/cases/case_interpolation/markers_c3.txt')]\n",
      "[PosixPath('/home/user/Documents/repos/proPTV_OpenPTV_MyPTV_comparison/cases/case_allmarkers/markers_c0.txt'), PosixPath('/home/user/Documents/repos/proPTV_OpenPTV_MyPTV_comparison/cases/case_allmarkers/markers_c1.txt'), PosixPath('/home/user/Documents/repos/proPTV_OpenPTV_MyPTV_comparison/cases/case_allmarkers/markers_c2.txt'), PosixPath('/home/user/Documents/repos/proPTV_OpenPTV_MyPTV_comparison/cases/case_allmarkers/markers_c3.txt')]\n",
      "[PosixPath('/home/user/Documents/repos/proPTV_OpenPTV_MyPTV_comparison/cases/case_extrapolation/markers_c0.txt'), PosixPath('/home/user/Documents/repos/proPTV_OpenPTV_MyPTV_comparison/cases/case_extrapolation/markers_c1.txt'), PosixPath('/home/user/Documents/repos/proPTV_OpenPTV_MyPTV_comparison/cases/case_extrapolation/markers_c2.txt'), PosixPath('/home/user/Documents/repos/proPTV_OpenPTV_MyPTV_comparison/cases/case_extrapolation/markers_c3.txt')]\n"
     ]
    }
   ],
   "source": [
    "cases = list(cases_path.rglob('case_*'))\n",
    "for c in cases:\n",
    "    list_files = list(c.rglob('markers*'))\n",
    "    list_files.sort()\n",
    "    print(list_files)\n"
   ]
  },
  {
   "cell_type": "code",
   "execution_count": 6,
   "metadata": {},
   "outputs": [
    {
     "data": {
      "text/plain": [
       "'interpolation'"
      ]
     },
     "execution_count": 6,
     "metadata": {},
     "output_type": "execute_result"
    }
   ],
   "source": [
    "cases[0].name.split('case_')[-1]"
   ]
  },
  {
   "cell_type": "code",
   "execution_count": 7,
   "metadata": {},
   "outputs": [],
   "source": [
    "def array_to_calibration(x:np.ndarray, cal:Calibration) -> None:\n",
    "    cal.set_pos(x[:3])\n",
    "    cal.set_angles(x[3:6])\n",
    "    cal.set_primary_point(x[6:9])\n",
    "    cal.set_radial_distortion(x[9:12])\n",
    "    cal.set_decentering(x[12:14])\n",
    "    cal.set_affine_trans(x[14:])\n",
    "    return None\n",
    "\n",
    "def calibration_to_array(cal:Calibration) -> np.ndarray:\n",
    "    return np.concatenate([\n",
    "        cal.get_pos(),\n",
    "        cal.get_angles(),\n",
    "        cal.get_primary_point(),\n",
    "        cal.get_radial_distortion(),\n",
    "        cal.get_decentering(),\n",
    "        cal.get_affine(),\n",
    "    ])\n",
    "\n",
    "def error_function(x, cal, XYZ, xy, cpar):\n",
    "    \n",
    "    array_to_calibration(x, cal)\n",
    "\n",
    "    targets = convert_arr_metric_to_pixel(\n",
    "        image_coordinates(XYZ, cal, cpar.get_multimedia_params()),\n",
    "    cpar,\n",
    "    )\n",
    "    # err = np.sum(np.abs(xy - targets))\n",
    "    err = np.sum((xy - targets)**2)\n",
    "    # print(err)\n",
    "    return err\n",
    "\n",
    "def pixel_to_flat(pos, cpar, cal):\n",
    "    \"\"\" converts numpy array of size (2,) from pixel to flat coordinates\"\"\"\n",
    "    pos = convert_arr_metric_to_pixel(np.atleast_2d(pos), cpar)\n",
    "    distorted_to_flat(pos, cal, pos, 1e-5 )\n",
    "    return pos"
   ]
  },
  {
   "cell_type": "code",
   "execution_count": 8,
   "metadata": {},
   "outputs": [
    {
     "name": "stdout",
     "output_type": "stream",
     "text": [
      "[ 322.38251339    4.4040676  1031.76370716] [ 0.1884708   0.20904414 -0.03438548]\n",
      "[-1.72196260e-01  2.96220478e+02  1.03049543e+03] [-0.2028321  -0.18304368 -0.02799897]\n",
      "[ 323.84409902  298.102586   1028.23341819] [-0.19496146  0.21075588  0.0246242 ]\n",
      "[-1.32199240e-01  1.49476157e+01  1.02278223e+03] [ 0.17005024 -0.1784537   0.00354099]\n",
      "[PosixPath('/home/user/Documents/repos/proPTV_OpenPTV_MyPTV_comparison/cases/case_interpolation/markers_c0.txt'), PosixPath('/home/user/Documents/repos/proPTV_OpenPTV_MyPTV_comparison/cases/case_interpolation/markers_c1.txt'), PosixPath('/home/user/Documents/repos/proPTV_OpenPTV_MyPTV_comparison/cases/case_interpolation/markers_c2.txt'), PosixPath('/home/user/Documents/repos/proPTV_OpenPTV_MyPTV_comparison/cases/case_interpolation/markers_c3.txt')]\n",
      " Camera 0\n",
      "\n",
      "Before: [[-3.19232797 -0.09974858]\n",
      " [ 0.0096724   3.82059895]\n",
      " [ 0.56604697 -3.24775243]\n",
      " [ 5.05276383  0.65211193]]\n",
      "[ 3.22382513e+02  4.40406760e+00  1.03176371e+03  1.88470800e-01\n",
      "  2.09044140e-01 -3.43854800e-02  1.43000000e-02 -4.23000000e-02\n",
      "  3.50000000e+01 -4.47600000e-04  1.03500000e-05 -9.00000000e-08\n",
      " -3.83100000e-05  9.88900000e-05  9.92722030e-01 -1.64342000e-03]\n",
      "After: [[-1.53650842  3.12003714]\n",
      " [-0.96950405  0.27950687]\n",
      " [-0.24685225  0.79716483]\n",
      " [ 1.339902    2.23122291]]\n"
     ]
    },
    {
     "ename": "TypeError",
     "evalue": "Argument 'targets' has incorrect type (expected numpy.ndarray, got list)",
     "output_type": "error",
     "traceback": [
      "\u001b[0;31m---------------------------------------------------------------------------\u001b[0m",
      "\u001b[0;31mTypeError\u001b[0m                                 Traceback (most recent call last)",
      "Cell \u001b[0;32mIn[8], line 89\u001b[0m\n\u001b[1;32m     87\u001b[0m newXYZ \u001b[38;5;241m=\u001b[39m []\n\u001b[1;32m     88\u001b[0m \u001b[38;5;28;01mfor\u001b[39;00m row \u001b[38;5;129;01min\u001b[39;00m newtmp:\n\u001b[0;32m---> 89\u001b[0m     _, pos \u001b[38;5;241m=\u001b[39m \u001b[43mpoint_positions\u001b[49m\u001b[43m(\u001b[49m\u001b[43mrow\u001b[49m\u001b[43m,\u001b[49m\u001b[43m \u001b[49m\u001b[38;5;241;43m4\u001b[39;49m\u001b[43m,\u001b[49m\u001b[43m \u001b[49m\u001b[43mcpar\u001b[49m\u001b[38;5;241;43m.\u001b[39;49m\u001b[43mget_multimedia_params\u001b[49m\u001b[43m(\u001b[49m\u001b[43m)\u001b[49m\u001b[43m,\u001b[49m\u001b[43m \u001b[49m\u001b[43mcal\u001b[49m\u001b[43m)\u001b[49m\n\u001b[1;32m     90\u001b[0m     newXYZ\u001b[38;5;241m.\u001b[39mappend(pos)\n\u001b[1;32m     92\u001b[0m newXYZ \u001b[38;5;241m=\u001b[39m np\u001b[38;5;241m.\u001b[39marray(newXYZ)\n",
      "\u001b[0;31mTypeError\u001b[0m: Argument 'targets' has incorrect type (expected numpy.ndarray, got list)"
     ]
    }
   ],
   "source": [
    "n_cams = len(params.cams)\n",
    "\n",
    "cpar = ControlParams(n_cams)\n",
    "cpar.read_control_par(b\"parameters/ptv.par\")\n",
    "\n",
    "vpar = VolumeParams()\n",
    "vpar.read_volume_par(b\"parameters/criteria.par\")\n",
    "\n",
    "# Calibration initial guess \n",
    "\n",
    "cals = []\n",
    "for i_cam in range(n_cams):\n",
    "    cal = Calibration()\n",
    "    tmp = cpar.get_cal_img_base_name(i_cam)\n",
    "    cal.from_file(tmp + b\".ori\", tmp + b\".addpar\")\n",
    "    print(cal.get_pos(), cal.get_angles())\n",
    "    cals.append(cal)\n",
    "\n",
    "\n",
    "\n",
    "for case in cases:\n",
    "    list_files = list(case.rglob('markers*'))\n",
    "    list_files.sort()\n",
    "    print(list_files)\n",
    "    \n",
    "    # load marker\n",
    "    markers = [np.loadtxt(_) for _ in list_files]\n",
    "    \n",
    "    for c in params.cams:\n",
    "        print(f\" Camera {c}\\n\")\n",
    "\n",
    "        XYZ = markers[c][:,2:]\n",
    "        xy = markers[c][:,:2]\n",
    "        ID = np.argwhere((XYZ[:,0]>-1))[:,0]\n",
    "\n",
    "        cal = cals[c]\n",
    "        # print what you get to see it's still a valid guess\n",
    "        cal.get_pos(), cal.get_angles()\n",
    "\n",
    "        \n",
    "        # We could use this step only if we do not have a good\n",
    "        # initial guess, but we have one from the previous step\n",
    "\n",
    "        \n",
    "        four_points = xy[[0,int(ID.max()/4),int(ID.max()*3/4),ID.max()],:] # choose manually\n",
    "        ref_pts = XYZ[[0,int(ID.max()/4),int(ID.max()*3/4),ID.max()],:]\n",
    "\n",
    "\n",
    "        targets = convert_arr_metric_to_pixel(\n",
    "            image_coordinates(ref_pts, cal, cpar.get_multimedia_params()),\n",
    "        cpar,\n",
    "        )\n",
    "        print(f\"Before: {four_points - targets}\")\n",
    "\n",
    "\n",
    "        # external_calibration(cal, ref_pts, four_points, cpar)\n",
    "\n",
    "\n",
    "        x0 = calibration_to_array(cal)\n",
    "        print(x0)\n",
    "        sol = minimize(error_function, x0, args=(cal, XYZ, xy, cpar), method='Nelder-Mead', tol=1e-11)\n",
    "\n",
    "        array_to_calibration(sol.x, cal)\n",
    "\n",
    "        targets = convert_arr_metric_to_pixel(\n",
    "            image_coordinates(ref_pts, cal, cpar.get_multimedia_params()),\n",
    "        cpar,\n",
    "        )\n",
    "        print(f\"After: {four_points - targets}\")\n",
    "\n",
    "        targets = convert_arr_metric_to_pixel(\n",
    "            image_coordinates(XYZ, cal, cpar.get_multimedia_params()),\n",
    "        cpar,\n",
    "        )\n",
    "\n",
    "        # px.scatter(x=xy[:,0], y=xy[:,1], color=ID).show()\n",
    "        # fig = ff.create_quiver(x=xy[:,0], y=xy[:,1], u=targets[:,0]-xy[:,0], v=targets[:,1]-xy[:,1], scale=5)\n",
    "        # fig.show()\n",
    "\n",
    "        # Not sure I understand it correctly, we calibrate with \n",
    "        # some markers but always compare with the full set\n",
    "\n",
    "        case_name = case.name.split('case_')[-1] # 'interpolation', ...\n",
    "\n",
    "        tmp = [[markers[cam][row,:2] for cam in range(n_cams)] for row in range(len(markers))]\n",
    "        newtmp = [[pixel_to_flat(pos, cpar, cals[i]) for i, pos in enumerate(row)] for row in tmp]\n",
    "        newXYZ = []\n",
    "        for row in newtmp:\n",
    "            _, pos = point_positions(row, 4, cpar.get_multimedia_params(), cal)\n",
    "            newXYZ.append(pos)\n",
    "            \n",
    "        newXYZ = np.array(newXYZ)\n",
    "\n",
    "        errors = newXYZ - XYZ\n",
    "        print(errors)\n",
    "\n",
    "        # get 3D positions from plate\n",
    "        # # triangulate 3D position\n",
    "        # camPs = [ np.asarray([markers[0][i,:2],markers[1][i,:2],markers[2][i,:2],markers[3][i,:2]]) for i in range(len(markers[0]))]\n",
    "        # P = np.asarray([NewtonSoloff_Triangulation(setP, ax, ay, params)[0] for setP in camPs])\n",
    "\n",
    "        # # compare error\n",
    "        # error = XYZ-P\n",
    "        # output = np.zeros([361*5,8+3+3])\n",
    "        # for i in range(len(params.cams)):\n",
    "        #     output[:,2*i:2*(i+1)] = np.loadtxt('markers_c'+str(params.cams[i])+'.txt')[:,:2]\n",
    "        # output[:,8:11] = XYZ\n",
    "        # output[:,11:] = error\n",
    "        # # SaveMarkerList(output)\n",
    "\n",
    "        # err = np.linalg.norm(error,axis=1)\n",
    "        # mean_err = np.mean(err)\n",
    "        # std_err = np.std(err)\n",
    "        # print('MAE: ', mean_err, ' +- ' , std_err )\n",
    "\n",
    "        # axis = plt.figure().add_subplot(111, projection='3d')\n",
    "        # axis.scatter(P[:,2], P[:,0], P[:,1],c='red',s=5)\n",
    "        # axis.scatter(XYZ[ID,2], XYZ[ID,0], XYZ[ID,1],c='black',s=5)\n",
    "        # axis.set_xlabel('Z',fontsize=13), axis.set_ylabel('X',fontsize=13), axis.set_zlabel('Y',fontsize=13)\n",
    "        # plt.tight_layout()\n",
    "        # plt.show()\n",
    "\n",
    "        # axis = plt.figure().add_subplot(111, projection='3d')\n",
    "        # axis.quiver(P[:,2],P[:,0],P[:,1], P[:,2]-XYZ[ID,2], P[:,0]-XYZ[ID,0], P[:,1]-XYZ[ID,1],color='red',length=10,normalize=True)\n",
    "        # axis.set_xlabel('Z',fontsize=13), axis.set_ylabel('X',fontsize=13), axis.set_zlabel('Y',fontsize=13)\n",
    "        # plt.tight_layout()\n",
    "        # plt.show()"
   ]
  },
  {
   "cell_type": "code",
   "execution_count": 9,
   "metadata": {},
   "outputs": [
    {
     "name": "stdout",
     "output_type": "stream",
     "text": [
      "\u001b[0;31mDocstring:\u001b[0m\n",
      "Calculate the 3D positions of the points given by their 2D projections\n",
      "using one of the options: \n",
      "- for a single camera, uses single_cam_point_positions()\n",
      "- for multiple cameras, uses multi_cam_point_positions()\n",
      "\n",
      "Arguments:\n",
      "np.ndarray[ndim=3, dtype=pos_t] targets - (num_targets, num_cams, 2) array,\n",
      "    containing the metric coordinates of each target on the image plane of\n",
      "    each camera. Cameras must be in the same order for all targets.\n",
      "ControlParams cparam - needed for the parameters of the tank through which\n",
      "    we see the targets.\n",
      "cals - a sequence of Calibration objects for each of the cameras, in the\n",
      "    camera order of ``targets``.\n",
      "VolumeParams vparam - an object holding observed volume size parameters, needed\n",
      "    for the single camera case only.\n",
      "\n",
      "Returns:\n",
      "res - (n,3) array for n points represented by their targets.\n",
      "rcm - n-length array, the Ray Convergence Measure for eachpoint for multi camera\n",
      "    option, or zeros for a single camera option\n",
      "\u001b[0;31mType:\u001b[0m      builtin_function_or_method"
     ]
    }
   ],
   "source": [
    "point_positions?"
   ]
  },
  {
   "cell_type": "code",
   "execution_count": null,
   "metadata": {},
   "outputs": [],
   "source": []
  }
 ],
 "metadata": {
  "kernelspec": {
   "display_name": "pro_my_open_ptv_benchmark",
   "language": "python",
   "name": "python3"
  },
  "language_info": {
   "codemirror_mode": {
    "name": "ipython",
    "version": 3
   },
   "file_extension": ".py",
   "mimetype": "text/x-python",
   "name": "python",
   "nbconvert_exporter": "python",
   "pygments_lexer": "ipython3",
   "version": "3.10.14"
  }
 },
 "nbformat": 4,
 "nbformat_minor": 2
}
