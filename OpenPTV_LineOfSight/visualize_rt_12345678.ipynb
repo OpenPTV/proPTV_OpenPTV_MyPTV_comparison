{
 "cells": [
  {
   "cell_type": "markdown",
   "metadata": {},
   "source": [
    "# Plot rt_is.file in 3D"
   ]
  },
  {
   "cell_type": "code",
   "execution_count": 6,
   "metadata": {},
   "outputs": [],
   "source": [
    "import numpy as np\n",
    "from pathlib import Path\n",
    "\n",
    "# Provide the folder path where the file is located\n",
    "pyptv_folder = Path.cwd().parent / 'pyptv'\n",
    "folder_path = pyptv_folder / 'res'  # Replace with the actual folder path\n",
    "cal_path = pyptv_folder / 'cal'\n",
    "ori_files = cal_path.rglob('*.ori')\n",
    "\n",
    "# Construct the full file path\n",
    "file_path = f'{folder_path}/rt_is.123456789'\n",
    "\n",
    "# Read the file using numpy\n",
    "data = np.loadtxt(file_path, skiprows=1)\n",
    "\n",
    "\n",
    "\n",
    "# print(data)"
   ]
  },
  {
   "cell_type": "code",
   "execution_count": 8,
   "metadata": {},
   "outputs": [
    {
     "data": {
      "text/plain": [
       "array([[ 2.000000e+00,  3.122594e+03,  1.063382e+03,  1.829098e+03,\n",
       "         5.000000e+00,  5.000000e+00,  5.000000e+00,  5.000000e+00],\n",
       "       [ 3.000000e+00,  1.148487e+03,  2.407450e+02,  2.641245e+03,\n",
       "         8.000000e+00,  6.000000e+00,  9.000000e+00,  7.000000e+00],\n",
       "       [ 4.000000e+00,  1.743363e+03,  2.320908e+03,  7.900560e+02,\n",
       "         4.000000e+00,  4.000000e+00,  3.000000e+00,  4.000000e+00],\n",
       "       [ 5.000000e+00, -7.575240e+02,  3.196980e+03,  8.530860e+02,\n",
       "         0.000000e+00,  2.000000e+00,  1.000000e+00,  0.000000e+00],\n",
       "       [ 6.000000e+00,  3.056435e+03,  3.473787e+03,  1.802472e+03,\n",
       "         2.000000e+00,  1.000000e+00,  2.000000e+00,  1.000000e+00],\n",
       "       [ 7.000000e+00,  4.062387e+03,  2.436780e+02, -7.766200e+01,\n",
       "         9.000000e+00,  7.000000e+00,  7.000000e+00,  9.000000e+00],\n",
       "       [ 8.000000e+00,  9.610550e+02,  8.562920e+02, -4.033990e+02,\n",
       "         7.000000e+00,  8.000000e+00,  6.000000e+00,  8.000000e+00],\n",
       "       [ 9.000000e+00, -1.384288e+03,  6.893550e+02,  1.809948e+03,\n",
       "         6.000000e+00,  9.000000e+00,  8.000000e+00,  6.000000e+00],\n",
       "       [ 1.000000e+01,  2.625579e+03,  3.208971e+03, -1.025360e+03,\n",
       "         1.000000e+00,  0.000000e+00,  0.000000e+00,  2.000000e+00]])"
      ]
     },
     "execution_count": 8,
     "metadata": {},
     "output_type": "execute_result"
    }
   ],
   "source": [
    "data[1:]"
   ]
  },
  {
   "cell_type": "code",
   "execution_count": 9,
   "metadata": {},
   "outputs": [
    {
     "data": {
      "application/vnd.plotly.v1+json": {
       "config": {
        "plotlyServerURL": "https://plot.ly"
       },
       "data": [
        {
         "mode": "markers",
         "type": "scatter3d",
         "x": {
          "bdata": "EFg5tMjtikCmm8QgMGWoQJzEILDy8ZFAy6FFtnM9m0DVeOkmMayHwIXrUbje4KdAGy/dJMa8r0A9CtejcAiOQP7UeOkmoZXAxSCwciiDpEA=",
          "dtype": "f8"
         },
         "y": {
          "bdata": "NV66SUwapUBKDAIrh52QQKRwPQrXF25AiUFg5dAhokApXI/C9fmoQOf7qfGSI6tABFYOLbJ1bkB1kxgEVsKKQKRwPQrXioVA1XjpJvERqUA=",
          "dtype": "f8"
         },
         "z": {
          "bdata": "aJHtfD9lpEAIrBxaZJScQArXo3B9oqRAnMQgsHKwiECmm8QgsKiKQNnO91PjKZxA7nw/NV5qU8Cq8dJNYjZ5wG8Sg8DKR5xAPQrXo3AFkMA=",
          "dtype": "f8"
         }
        },
        {
         "marker": {
          "color": "red",
          "size": 5
         },
         "mode": "markers",
         "name": "Camera Position",
         "type": "scatter3d",
         "x": [
          988.99639333
         ],
         "y": [
          2878.53515759
         ],
         "z": [
          -4101.29271173
         ]
        },
        {
         "line": {
          "color": "red",
          "width": 5
         },
         "mode": "lines",
         "name": "Camera Direction",
         "type": "scatter3d",
         "x": [
          988.99639333,
          988.0426201877448
         ],
         "y": [
          2878.53515759,
          2878.3442278375765
         ],
         "z": [
          -4101.29271173,
          -4101.5247949537625
         ]
        },
        {
         "marker": {
          "color": "red",
          "size": 5
         },
         "mode": "markers",
         "name": "Camera Position",
         "type": "scatter3d",
         "x": [
          1024.81714177
         ],
         "y": [
          691.47290567
         ],
         "z": [
          -4063.2430681
         ]
        },
        {
         "line": {
          "color": "red",
          "width": 5
         },
         "mode": "lines",
         "name": "Camera Direction",
         "type": "scatter3d",
         "x": [
          1024.81714177,
          1023.8615657845143
         ],
         "y": [
          691.47290567,
          691.281070999501
         ],
         "z": [
          -4063.2430681,
          -4063.0192959052188
         ]
        },
        {
         "marker": {
          "color": "red",
          "size": 5
         },
         "mode": "markers",
         "name": "Camera Position",
         "type": "scatter3d",
         "x": [
          -1618.86492547
         ],
         "y": [
          2870.65204743
         ],
         "z": [
          -3109.01308585
         ]
        },
        {
         "line": {
          "color": "red",
          "width": 5
         },
         "mode": "lines",
         "name": "Camera Direction",
         "type": "scatter3d",
         "x": [
          -1618.86492547,
          -1619.6682334629738
         ],
         "y": [
          2870.65204743,
          2870.108911819343
         ],
         "z": [
          -3109.01308585,
          -3109.2574216371054
         ]
        },
        {
         "marker": {
          "color": "red",
          "size": 5
         },
         "mode": "markers",
         "name": "Camera Position",
         "type": "scatter3d",
         "x": [
          -1653.84021172
         ],
         "y": [
          651.00007106
         ],
         "z": [
          -3112.84704232
         ]
        },
        {
         "line": {
          "color": "red",
          "width": 5
         },
         "mode": "lines",
         "name": "Camera Direction",
         "type": "scatter3d",
         "x": [
          -1653.84021172,
          -1654.650280811222
         ],
         "y": [
          651.00007106,
          650.4663065350447
         ],
         "z": [
          -3112.84704232,
          -3112.6043830952713
         ]
        }
       ],
       "layout": {
        "scene": {
         "xaxis": {
          "title": {
           "text": "Z"
          }
         },
         "yaxis": {
          "title": {
           "text": "X"
          }
         },
         "zaxis": {
          "title": {
           "text": "Y"
          }
         }
        },
        "template": {
         "data": {
          "bar": [
           {
            "error_x": {
             "color": "#2a3f5f"
            },
            "error_y": {
             "color": "#2a3f5f"
            },
            "marker": {
             "line": {
              "color": "#E5ECF6",
              "width": 0.5
             },
             "pattern": {
              "fillmode": "overlay",
              "size": 10,
              "solidity": 0.2
             }
            },
            "type": "bar"
           }
          ],
          "barpolar": [
           {
            "marker": {
             "line": {
              "color": "#E5ECF6",
              "width": 0.5
             },
             "pattern": {
              "fillmode": "overlay",
              "size": 10,
              "solidity": 0.2
             }
            },
            "type": "barpolar"
           }
          ],
          "carpet": [
           {
            "aaxis": {
             "endlinecolor": "#2a3f5f",
             "gridcolor": "white",
             "linecolor": "white",
             "minorgridcolor": "white",
             "startlinecolor": "#2a3f5f"
            },
            "baxis": {
             "endlinecolor": "#2a3f5f",
             "gridcolor": "white",
             "linecolor": "white",
             "minorgridcolor": "white",
             "startlinecolor": "#2a3f5f"
            },
            "type": "carpet"
           }
          ],
          "choropleth": [
           {
            "colorbar": {
             "outlinewidth": 0,
             "ticks": ""
            },
            "type": "choropleth"
           }
          ],
          "contour": [
           {
            "colorbar": {
             "outlinewidth": 0,
             "ticks": ""
            },
            "colorscale": [
             [
              0,
              "#0d0887"
             ],
             [
              0.1111111111111111,
              "#46039f"
             ],
             [
              0.2222222222222222,
              "#7201a8"
             ],
             [
              0.3333333333333333,
              "#9c179e"
             ],
             [
              0.4444444444444444,
              "#bd3786"
             ],
             [
              0.5555555555555556,
              "#d8576b"
             ],
             [
              0.6666666666666666,
              "#ed7953"
             ],
             [
              0.7777777777777778,
              "#fb9f3a"
             ],
             [
              0.8888888888888888,
              "#fdca26"
             ],
             [
              1,
              "#f0f921"
             ]
            ],
            "type": "contour"
           }
          ],
          "contourcarpet": [
           {
            "colorbar": {
             "outlinewidth": 0,
             "ticks": ""
            },
            "type": "contourcarpet"
           }
          ],
          "heatmap": [
           {
            "colorbar": {
             "outlinewidth": 0,
             "ticks": ""
            },
            "colorscale": [
             [
              0,
              "#0d0887"
             ],
             [
              0.1111111111111111,
              "#46039f"
             ],
             [
              0.2222222222222222,
              "#7201a8"
             ],
             [
              0.3333333333333333,
              "#9c179e"
             ],
             [
              0.4444444444444444,
              "#bd3786"
             ],
             [
              0.5555555555555556,
              "#d8576b"
             ],
             [
              0.6666666666666666,
              "#ed7953"
             ],
             [
              0.7777777777777778,
              "#fb9f3a"
             ],
             [
              0.8888888888888888,
              "#fdca26"
             ],
             [
              1,
              "#f0f921"
             ]
            ],
            "type": "heatmap"
           }
          ],
          "histogram": [
           {
            "marker": {
             "pattern": {
              "fillmode": "overlay",
              "size": 10,
              "solidity": 0.2
             }
            },
            "type": "histogram"
           }
          ],
          "histogram2d": [
           {
            "colorbar": {
             "outlinewidth": 0,
             "ticks": ""
            },
            "colorscale": [
             [
              0,
              "#0d0887"
             ],
             [
              0.1111111111111111,
              "#46039f"
             ],
             [
              0.2222222222222222,
              "#7201a8"
             ],
             [
              0.3333333333333333,
              "#9c179e"
             ],
             [
              0.4444444444444444,
              "#bd3786"
             ],
             [
              0.5555555555555556,
              "#d8576b"
             ],
             [
              0.6666666666666666,
              "#ed7953"
             ],
             [
              0.7777777777777778,
              "#fb9f3a"
             ],
             [
              0.8888888888888888,
              "#fdca26"
             ],
             [
              1,
              "#f0f921"
             ]
            ],
            "type": "histogram2d"
           }
          ],
          "histogram2dcontour": [
           {
            "colorbar": {
             "outlinewidth": 0,
             "ticks": ""
            },
            "colorscale": [
             [
              0,
              "#0d0887"
             ],
             [
              0.1111111111111111,
              "#46039f"
             ],
             [
              0.2222222222222222,
              "#7201a8"
             ],
             [
              0.3333333333333333,
              "#9c179e"
             ],
             [
              0.4444444444444444,
              "#bd3786"
             ],
             [
              0.5555555555555556,
              "#d8576b"
             ],
             [
              0.6666666666666666,
              "#ed7953"
             ],
             [
              0.7777777777777778,
              "#fb9f3a"
             ],
             [
              0.8888888888888888,
              "#fdca26"
             ],
             [
              1,
              "#f0f921"
             ]
            ],
            "type": "histogram2dcontour"
           }
          ],
          "mesh3d": [
           {
            "colorbar": {
             "outlinewidth": 0,
             "ticks": ""
            },
            "type": "mesh3d"
           }
          ],
          "parcoords": [
           {
            "line": {
             "colorbar": {
              "outlinewidth": 0,
              "ticks": ""
             }
            },
            "type": "parcoords"
           }
          ],
          "pie": [
           {
            "automargin": true,
            "type": "pie"
           }
          ],
          "scatter": [
           {
            "fillpattern": {
             "fillmode": "overlay",
             "size": 10,
             "solidity": 0.2
            },
            "type": "scatter"
           }
          ],
          "scatter3d": [
           {
            "line": {
             "colorbar": {
              "outlinewidth": 0,
              "ticks": ""
             }
            },
            "marker": {
             "colorbar": {
              "outlinewidth": 0,
              "ticks": ""
             }
            },
            "type": "scatter3d"
           }
          ],
          "scattercarpet": [
           {
            "marker": {
             "colorbar": {
              "outlinewidth": 0,
              "ticks": ""
             }
            },
            "type": "scattercarpet"
           }
          ],
          "scattergeo": [
           {
            "marker": {
             "colorbar": {
              "outlinewidth": 0,
              "ticks": ""
             }
            },
            "type": "scattergeo"
           }
          ],
          "scattergl": [
           {
            "marker": {
             "colorbar": {
              "outlinewidth": 0,
              "ticks": ""
             }
            },
            "type": "scattergl"
           }
          ],
          "scattermap": [
           {
            "marker": {
             "colorbar": {
              "outlinewidth": 0,
              "ticks": ""
             }
            },
            "type": "scattermap"
           }
          ],
          "scattermapbox": [
           {
            "marker": {
             "colorbar": {
              "outlinewidth": 0,
              "ticks": ""
             }
            },
            "type": "scattermapbox"
           }
          ],
          "scatterpolar": [
           {
            "marker": {
             "colorbar": {
              "outlinewidth": 0,
              "ticks": ""
             }
            },
            "type": "scatterpolar"
           }
          ],
          "scatterpolargl": [
           {
            "marker": {
             "colorbar": {
              "outlinewidth": 0,
              "ticks": ""
             }
            },
            "type": "scatterpolargl"
           }
          ],
          "scatterternary": [
           {
            "marker": {
             "colorbar": {
              "outlinewidth": 0,
              "ticks": ""
             }
            },
            "type": "scatterternary"
           }
          ],
          "surface": [
           {
            "colorbar": {
             "outlinewidth": 0,
             "ticks": ""
            },
            "colorscale": [
             [
              0,
              "#0d0887"
             ],
             [
              0.1111111111111111,
              "#46039f"
             ],
             [
              0.2222222222222222,
              "#7201a8"
             ],
             [
              0.3333333333333333,
              "#9c179e"
             ],
             [
              0.4444444444444444,
              "#bd3786"
             ],
             [
              0.5555555555555556,
              "#d8576b"
             ],
             [
              0.6666666666666666,
              "#ed7953"
             ],
             [
              0.7777777777777778,
              "#fb9f3a"
             ],
             [
              0.8888888888888888,
              "#fdca26"
             ],
             [
              1,
              "#f0f921"
             ]
            ],
            "type": "surface"
           }
          ],
          "table": [
           {
            "cells": {
             "fill": {
              "color": "#EBF0F8"
             },
             "line": {
              "color": "white"
             }
            },
            "header": {
             "fill": {
              "color": "#C8D4E3"
             },
             "line": {
              "color": "white"
             }
            },
            "type": "table"
           }
          ]
         },
         "layout": {
          "annotationdefaults": {
           "arrowcolor": "#2a3f5f",
           "arrowhead": 0,
           "arrowwidth": 1
          },
          "autotypenumbers": "strict",
          "coloraxis": {
           "colorbar": {
            "outlinewidth": 0,
            "ticks": ""
           }
          },
          "colorscale": {
           "diverging": [
            [
             0,
             "#8e0152"
            ],
            [
             0.1,
             "#c51b7d"
            ],
            [
             0.2,
             "#de77ae"
            ],
            [
             0.3,
             "#f1b6da"
            ],
            [
             0.4,
             "#fde0ef"
            ],
            [
             0.5,
             "#f7f7f7"
            ],
            [
             0.6,
             "#e6f5d0"
            ],
            [
             0.7,
             "#b8e186"
            ],
            [
             0.8,
             "#7fbc41"
            ],
            [
             0.9,
             "#4d9221"
            ],
            [
             1,
             "#276419"
            ]
           ],
           "sequential": [
            [
             0,
             "#0d0887"
            ],
            [
             0.1111111111111111,
             "#46039f"
            ],
            [
             0.2222222222222222,
             "#7201a8"
            ],
            [
             0.3333333333333333,
             "#9c179e"
            ],
            [
             0.4444444444444444,
             "#bd3786"
            ],
            [
             0.5555555555555556,
             "#d8576b"
            ],
            [
             0.6666666666666666,
             "#ed7953"
            ],
            [
             0.7777777777777778,
             "#fb9f3a"
            ],
            [
             0.8888888888888888,
             "#fdca26"
            ],
            [
             1,
             "#f0f921"
            ]
           ],
           "sequentialminus": [
            [
             0,
             "#0d0887"
            ],
            [
             0.1111111111111111,
             "#46039f"
            ],
            [
             0.2222222222222222,
             "#7201a8"
            ],
            [
             0.3333333333333333,
             "#9c179e"
            ],
            [
             0.4444444444444444,
             "#bd3786"
            ],
            [
             0.5555555555555556,
             "#d8576b"
            ],
            [
             0.6666666666666666,
             "#ed7953"
            ],
            [
             0.7777777777777778,
             "#fb9f3a"
            ],
            [
             0.8888888888888888,
             "#fdca26"
            ],
            [
             1,
             "#f0f921"
            ]
           ]
          },
          "colorway": [
           "#636efa",
           "#EF553B",
           "#00cc96",
           "#ab63fa",
           "#FFA15A",
           "#19d3f3",
           "#FF6692",
           "#B6E880",
           "#FF97FF",
           "#FECB52"
          ],
          "font": {
           "color": "#2a3f5f"
          },
          "geo": {
           "bgcolor": "white",
           "lakecolor": "white",
           "landcolor": "#E5ECF6",
           "showlakes": true,
           "showland": true,
           "subunitcolor": "white"
          },
          "hoverlabel": {
           "align": "left"
          },
          "hovermode": "closest",
          "mapbox": {
           "style": "light"
          },
          "paper_bgcolor": "white",
          "plot_bgcolor": "#E5ECF6",
          "polar": {
           "angularaxis": {
            "gridcolor": "white",
            "linecolor": "white",
            "ticks": ""
           },
           "bgcolor": "#E5ECF6",
           "radialaxis": {
            "gridcolor": "white",
            "linecolor": "white",
            "ticks": ""
           }
          },
          "scene": {
           "xaxis": {
            "backgroundcolor": "#E5ECF6",
            "gridcolor": "white",
            "gridwidth": 2,
            "linecolor": "white",
            "showbackground": true,
            "ticks": "",
            "zerolinecolor": "white"
           },
           "yaxis": {
            "backgroundcolor": "#E5ECF6",
            "gridcolor": "white",
            "gridwidth": 2,
            "linecolor": "white",
            "showbackground": true,
            "ticks": "",
            "zerolinecolor": "white"
           },
           "zaxis": {
            "backgroundcolor": "#E5ECF6",
            "gridcolor": "white",
            "gridwidth": 2,
            "linecolor": "white",
            "showbackground": true,
            "ticks": "",
            "zerolinecolor": "white"
           }
          },
          "shapedefaults": {
           "line": {
            "color": "#2a3f5f"
           }
          },
          "ternary": {
           "aaxis": {
            "gridcolor": "white",
            "linecolor": "white",
            "ticks": ""
           },
           "baxis": {
            "gridcolor": "white",
            "linecolor": "white",
            "ticks": ""
           },
           "bgcolor": "#E5ECF6",
           "caxis": {
            "gridcolor": "white",
            "linecolor": "white",
            "ticks": ""
           }
          },
          "title": {
           "x": 0.05
          },
          "xaxis": {
           "automargin": true,
           "gridcolor": "white",
           "linecolor": "white",
           "ticks": "",
           "title": {
            "standoff": 15
           },
           "zerolinecolor": "white",
           "zerolinewidth": 2
          },
          "yaxis": {
           "automargin": true,
           "gridcolor": "white",
           "linecolor": "white",
           "ticks": "",
           "title": {
            "standoff": 15
           },
           "zerolinecolor": "white",
           "zerolinewidth": 2
          }
         }
        },
        "title": {
         "text": "3D Scatter Plot"
        }
       }
      }
     },
     "metadata": {},
     "output_type": "display_data"
    }
   ],
   "source": [
    "import plotly.graph_objs as go\n",
    "import plotly.express as px\n",
    "\n",
    "# Filter the rows where the last column is not -1\n",
    "filtered_data = data[np.sum(data[:, -4:] == -1, axis=1) < 3]\n",
    "\n",
    "# Extract the columns for the 3D scatter plot from the filtered data\n",
    "x = filtered_data[:, 1]\n",
    "y = filtered_data[:, 2]\n",
    "z = filtered_data[:, 3]\n",
    "\n",
    "# Create the 3D scatter plot\n",
    "fig = go.Figure(data=[go.Scatter3d(x=x, y=y, z=z, mode='markers')])\n",
    "\n",
    "# Set plot title and labels\n",
    "fig.update_layout(title='3D Scatter Plot', scene=dict(\n",
    "    xaxis_title='Z',\n",
    "    yaxis_title='X',\n",
    "    zaxis_title='Y'\n",
    "))\n",
    "\n",
    "\n",
    "for f in ori_files:\n",
    "    with open(f, 'r') as file:\n",
    "        # Read the first line for camera position\n",
    "        cam_pos = np.array(file.readline().strip().split(), dtype=float)\n",
    "        # Read the second line for camera angles\n",
    "        cam_angles = np.array(file.readline().strip().split(), dtype=float)\n",
    "    \n",
    "    # Calculate the direction vector from the angles\n",
    "    direction = np.array([\n",
    "        np.cos(cam_angles[1]) * np.cos(cam_angles[0]),\n",
    "        np.sin(cam_angles[1]),\n",
    "        np.cos(cam_angles[1]) * np.sin(cam_angles[0])\n",
    "    ])\n",
    "    \n",
    "    # Plot the camera position\n",
    "    fig.add_trace(go.Scatter3d(\n",
    "        x=[cam_pos[0]], y=[cam_pos[1]], z=[cam_pos[2]],\n",
    "        mode='markers',\n",
    "        marker=dict(size=5, color='red'),\n",
    "        name='Camera Position'\n",
    "    ))\n",
    "    \n",
    "    # Plot the direction arrow\n",
    "    fig.add_trace(go.Scatter3d(\n",
    "        x=[cam_pos[0], cam_pos[0] + direction[0]],\n",
    "        y=[cam_pos[1], cam_pos[1] + direction[1]],\n",
    "        z=[cam_pos[2], cam_pos[2] + direction[2]],\n",
    "        mode='lines',\n",
    "        line=dict(color='red', width=5),\n",
    "        name='Camera Direction'\n",
    "    ))\n",
    "\n",
    "# Show the plot\n",
    "fig.show()"
   ]
  },
  {
   "cell_type": "code",
   "execution_count": 3,
   "metadata": {},
   "outputs": [
    {
     "data": {
      "text/plain": [
       "array([2701.149, 1063.382,  240.745, 2320.908, 3196.98 , 3473.787,\n",
       "        243.678,  856.292,  689.355, 3208.971])"
      ]
     },
     "execution_count": 3,
     "metadata": {},
     "output_type": "execute_result"
    }
   ],
   "source": [
    "z"
   ]
  }
 ],
 "metadata": {
  "kernelspec": {
   "display_name": ".venv (3.12.3)",
   "language": "python",
   "name": "python3"
  },
  "language_info": {
   "codemirror_mode": {
    "name": "ipython",
    "version": 3
   },
   "file_extension": ".py",
   "mimetype": "text/x-python",
   "name": "python",
   "nbconvert_exporter": "python",
   "pygments_lexer": "ipython3",
   "version": "3.12.3"
  }
 },
 "nbformat": 4,
 "nbformat_minor": 2
}
