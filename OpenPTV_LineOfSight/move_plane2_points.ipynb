{
 "cells": [
  {
   "cell_type": "code",
   "execution_count": 2,
   "metadata": {},
   "outputs": [],
   "source": [
    "import numpy as np\n",
    "\n",
    "# Read the file into a NumPy array\n",
    "data = np.loadtxt('plane1/plane_1.txt')\n",
    "\n",
    "# Change the distance between points in the 2nd and 3rd columns from 75 mm to 40 mm\n",
    "data[:, 1] = (data[:, 1] / 75) * 40\n",
    "data[:, 2] = (data[:, 2] / 75) * 40\n",
    "\n",
    "# Save the modified data to a new file\n",
    "np.savetxt('plane1/modified_plane_1.txt', data, fmt='%3d \\t %6.3f \\t  %6.3f \\t %6.3f')"
   ]
  }
 ],
 "metadata": {
  "kernelspec": {
   "display_name": "pyptv",
   "language": "python",
   "name": "python3"
  },
  "language_info": {
   "codemirror_mode": {
    "name": "ipython",
    "version": 3
   },
   "file_extension": ".py",
   "mimetype": "text/x-python",
   "name": "python",
   "nbconvert_exporter": "python",
   "pygments_lexer": "ipython3",
   "version": "3.11.10"
  }
 },
 "nbformat": 4,
 "nbformat_minor": 2
}
